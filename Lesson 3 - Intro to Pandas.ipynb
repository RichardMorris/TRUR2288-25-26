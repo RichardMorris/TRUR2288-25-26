{
 "cells": [
  {
   "cell_type": "markdown",
   "id": "e1d30438-4174-4dc5-a448-1bb3e984f02f",
   "metadata": {},
   "source": [
    "# Introduction to Pandas\n",
    "\n",
    "PFoo andas is a powerful data manipulation library in Python, widely used for data analysis tasks. It provides data structures like `DataFrame` and `Series` that make it easy to work with structured data.\n",
    "\n",
    "# Opening a CSV File\n",
    "\n",
    "We typically start by loading data from a file. One of the most common formats is CSV (Comma-Separated Values). Pandas provides a `read_csv()` function to load data from a CSV file into a `DataFrame`."
   ]
  },
  {
   "cell_type": "code",
   "execution_count": 1,
   "id": "e642b0e8-4c62-4876-b6bc-143b5f85fb02",
   "metadata": {},
   "outputs": [],
   "source": [
    "import pandas as pd\n",
    "\n",
    "# Example: Loading data from a CSV file\n",
    "df = pd.read_csv('Datasets/gapminder.csv')"
   ]
  },
  {
   "cell_type": "markdown",
   "id": "d1e557e2-779d-440d-9d22-670d54042c9d",
   "metadata": {},
   "source": [
    "## DataFrame Shape\n",
    "\n",
    "The `shape` attribute of a DataFrame provides the dimensions of the DataFrame as a tuple (number of rows, number of columns). \n",
    "\n",
    "### Why doesn't `shape` have `()`?\n",
    "\n",
    "`shape` is an attribute, not a method. This means it directly stores information about the DataFrame, so you don't need to call it as a function with parentheses."
   ]
  },
  {
   "cell_type": "code",
   "execution_count": 2,
   "id": "b4678967-76d7-4a49-896a-5cc9c394594a",
   "metadata": {},
   "outputs": [
    {
     "name": "stdout",
     "output_type": "stream",
     "text": [
      "Shape of the DataFrame: (1704, 6)\n"
     ]
    }
   ],
   "source": [
    "# Example: Checking the shape of the DataFrame\n",
    "df_shape = df.shape\n",
    "print(\"Shape of the DataFrame:\", df_shape)"
   ]
  },
  {
   "cell_type": "markdown",
   "id": "9d50769a-e7fb-4db0-bc85-4d679771f9ab",
   "metadata": {},
   "source": [
    "## DataFrame Columns\n",
    "\n",
    "The `columns` attribute returns an Index object containing the column names of the DataFrame. This is useful for identifying the features or variables available in the dataset."
   ]
  },
  {
   "cell_type": "code",
   "execution_count": 4,
   "id": "b3e9c5cd-00a6-4709-b16b-182a45c5c161",
   "metadata": {},
   "outputs": [
    {
     "name": "stdout",
     "output_type": "stream",
     "text": [
      "Columns in the DataFrame: Index(['country', 'continent', 'year', 'lifeExp', 'pop', 'gdpPercap'], dtype='object')\n"
     ]
    }
   ],
   "source": [
    "# Example: Viewing the column names of the DataFrame\n",
    "df_columns = df.columns\n",
    "print(\"Columns in the DataFrame:\", df_columns)"
   ]
  },
  {
   "cell_type": "markdown",
   "id": "521c0748-7ff3-4a4f-a9ef-e63ad1f1d646",
   "metadata": {},
   "source": [
    "## DataFrame Info\n",
    "\n",
    "The `info()` method provides a concise summary of the DataFrame, including the number of non-null entries, data types of each column, and memory usage. This is particularly helpful for getting a quick overview of the dataset."
   ]
  },
  {
   "cell_type": "code",
   "execution_count": 5,
   "id": "be7e684d-5621-472e-babf-3389bc953a3f",
   "metadata": {},
   "outputs": [
    {
     "name": "stdout",
     "output_type": "stream",
     "text": [
      "<class 'pandas.core.frame.DataFrame'>\n",
      "RangeIndex: 1704 entries, 0 to 1703\n",
      "Data columns (total 6 columns):\n",
      " #   Column     Non-Null Count  Dtype  \n",
      "---  ------     --------------  -----  \n",
      " 0   country    1704 non-null   object \n",
      " 1   continent  1704 non-null   object \n",
      " 2   year       1704 non-null   int64  \n",
      " 3   lifeExp    1704 non-null   float64\n",
      " 4   pop        1704 non-null   int64  \n",
      " 5   gdpPercap  1704 non-null   float64\n",
      "dtypes: float64(2), int64(2), object(2)\n",
      "memory usage: 80.0+ KB\n"
     ]
    }
   ],
   "source": [
    "df.info()"
   ]
  },
  {
   "cell_type": "markdown",
   "id": "bb4b63f3-52e7-4689-bdd2-57cd63dcbad3",
   "metadata": {},
   "source": [
    "## Descriptive Statistics\n",
    "\n",
    "The `describe()` method generates descriptive statistics of the DataFrame, such as mean, standard deviation, min, and max for numeric columns. This is useful for understanding the distribution of data."
   ]
  },
  {
   "cell_type": "code",
   "execution_count": 6,
   "id": "75da7ade-9396-426e-99e9-27a82ae6ff6f",
   "metadata": {},
   "outputs": [
    {
     "data": {
      "text/html": [
       "<div>\n",
       "<style scoped>\n",
       "    .dataframe tbody tr th:only-of-type {\n",
       "        vertical-align: middle;\n",
       "    }\n",
       "\n",
       "    .dataframe tbody tr th {\n",
       "        vertical-align: top;\n",
       "    }\n",
       "\n",
       "    .dataframe thead th {\n",
       "        text-align: right;\n",
       "    }\n",
       "</style>\n",
       "<table border=\"1\" class=\"dataframe\">\n",
       "  <thead>\n",
       "    <tr style=\"text-align: right;\">\n",
       "      <th></th>\n",
       "      <th>year</th>\n",
       "      <th>lifeExp</th>\n",
       "      <th>pop</th>\n",
       "      <th>gdpPercap</th>\n",
       "    </tr>\n",
       "  </thead>\n",
       "  <tbody>\n",
       "    <tr>\n",
       "      <th>count</th>\n",
       "      <td>1704.00000</td>\n",
       "      <td>1704.000000</td>\n",
       "      <td>1.704000e+03</td>\n",
       "      <td>1704.000000</td>\n",
       "    </tr>\n",
       "    <tr>\n",
       "      <th>mean</th>\n",
       "      <td>1979.50000</td>\n",
       "      <td>59.474439</td>\n",
       "      <td>2.960121e+07</td>\n",
       "      <td>7215.327081</td>\n",
       "    </tr>\n",
       "    <tr>\n",
       "      <th>std</th>\n",
       "      <td>17.26533</td>\n",
       "      <td>12.917107</td>\n",
       "      <td>1.061579e+08</td>\n",
       "      <td>9857.454543</td>\n",
       "    </tr>\n",
       "    <tr>\n",
       "      <th>min</th>\n",
       "      <td>1952.00000</td>\n",
       "      <td>23.599000</td>\n",
       "      <td>6.001100e+04</td>\n",
       "      <td>241.165876</td>\n",
       "    </tr>\n",
       "    <tr>\n",
       "      <th>25%</th>\n",
       "      <td>1965.75000</td>\n",
       "      <td>48.198000</td>\n",
       "      <td>2.793664e+06</td>\n",
       "      <td>1202.060309</td>\n",
       "    </tr>\n",
       "    <tr>\n",
       "      <th>50%</th>\n",
       "      <td>1979.50000</td>\n",
       "      <td>60.712500</td>\n",
       "      <td>7.023596e+06</td>\n",
       "      <td>3531.846988</td>\n",
       "    </tr>\n",
       "    <tr>\n",
       "      <th>75%</th>\n",
       "      <td>1993.25000</td>\n",
       "      <td>70.845500</td>\n",
       "      <td>1.958522e+07</td>\n",
       "      <td>9325.462346</td>\n",
       "    </tr>\n",
       "    <tr>\n",
       "      <th>max</th>\n",
       "      <td>2007.00000</td>\n",
       "      <td>82.603000</td>\n",
       "      <td>1.318683e+09</td>\n",
       "      <td>113523.132900</td>\n",
       "    </tr>\n",
       "  </tbody>\n",
       "</table>\n",
       "</div>"
      ],
      "text/plain": [
       "             year      lifeExp           pop      gdpPercap\n",
       "count  1704.00000  1704.000000  1.704000e+03    1704.000000\n",
       "mean   1979.50000    59.474439  2.960121e+07    7215.327081\n",
       "std      17.26533    12.917107  1.061579e+08    9857.454543\n",
       "min    1952.00000    23.599000  6.001100e+04     241.165876\n",
       "25%    1965.75000    48.198000  2.793664e+06    1202.060309\n",
       "50%    1979.50000    60.712500  7.023596e+06    3531.846988\n",
       "75%    1993.25000    70.845500  1.958522e+07    9325.462346\n",
       "max    2007.00000    82.603000  1.318683e+09  113523.132900"
      ]
     },
     "execution_count": 6,
     "metadata": {},
     "output_type": "execute_result"
    }
   ],
   "source": [
    "# Example: Generating descriptive statistics\n",
    "df_description = df.describe()\n",
    "df_description"
   ]
  },
  {
   "cell_type": "markdown",
   "id": "6013ee82-7155-4db4-addc-ab240a07678a",
   "metadata": {},
   "source": [
    "## Head and Tail\n",
    "\n",
    "- `head()`: Displays the first 5 rows of the DataFrame by default, which is useful for a quick glance at the data.\n",
    "- `tail()`: Displays the last 5 rows of the DataFrame by default, useful for checking data at the end of the DataFrame."
   ]
  },
  {
   "cell_type": "code",
   "execution_count": 7,
   "id": "40b04677-cfb5-404a-9bf1-be30dd11fa9d",
   "metadata": {},
   "outputs": [
    {
     "data": {
      "text/html": [
       "<div>\n",
       "<style scoped>\n",
       "    .dataframe tbody tr th:only-of-type {\n",
       "        vertical-align: middle;\n",
       "    }\n",
       "\n",
       "    .dataframe tbody tr th {\n",
       "        vertical-align: top;\n",
       "    }\n",
       "\n",
       "    .dataframe thead th {\n",
       "        text-align: right;\n",
       "    }\n",
       "</style>\n",
       "<table border=\"1\" class=\"dataframe\">\n",
       "  <thead>\n",
       "    <tr style=\"text-align: right;\">\n",
       "      <th></th>\n",
       "      <th>country</th>\n",
       "      <th>continent</th>\n",
       "      <th>year</th>\n",
       "      <th>lifeExp</th>\n",
       "      <th>pop</th>\n",
       "      <th>gdpPercap</th>\n",
       "    </tr>\n",
       "  </thead>\n",
       "  <tbody>\n",
       "    <tr>\n",
       "      <th>0</th>\n",
       "      <td>Afghanistan</td>\n",
       "      <td>Asia</td>\n",
       "      <td>1952</td>\n",
       "      <td>28.801</td>\n",
       "      <td>8425333</td>\n",
       "      <td>779.445314</td>\n",
       "    </tr>\n",
       "    <tr>\n",
       "      <th>1</th>\n",
       "      <td>Afghanistan</td>\n",
       "      <td>Asia</td>\n",
       "      <td>1957</td>\n",
       "      <td>30.332</td>\n",
       "      <td>9240934</td>\n",
       "      <td>820.853030</td>\n",
       "    </tr>\n",
       "    <tr>\n",
       "      <th>2</th>\n",
       "      <td>Afghanistan</td>\n",
       "      <td>Asia</td>\n",
       "      <td>1962</td>\n",
       "      <td>31.997</td>\n",
       "      <td>10267083</td>\n",
       "      <td>853.100710</td>\n",
       "    </tr>\n",
       "    <tr>\n",
       "      <th>3</th>\n",
       "      <td>Afghanistan</td>\n",
       "      <td>Asia</td>\n",
       "      <td>1967</td>\n",
       "      <td>34.020</td>\n",
       "      <td>11537966</td>\n",
       "      <td>836.197138</td>\n",
       "    </tr>\n",
       "    <tr>\n",
       "      <th>4</th>\n",
       "      <td>Afghanistan</td>\n",
       "      <td>Asia</td>\n",
       "      <td>1972</td>\n",
       "      <td>36.088</td>\n",
       "      <td>13079460</td>\n",
       "      <td>739.981106</td>\n",
       "    </tr>\n",
       "  </tbody>\n",
       "</table>\n",
       "</div>"
      ],
      "text/plain": [
       "       country continent  year  lifeExp       pop   gdpPercap\n",
       "0  Afghanistan      Asia  1952   28.801   8425333  779.445314\n",
       "1  Afghanistan      Asia  1957   30.332   9240934  820.853030\n",
       "2  Afghanistan      Asia  1962   31.997  10267083  853.100710\n",
       "3  Afghanistan      Asia  1967   34.020  11537966  836.197138\n",
       "4  Afghanistan      Asia  1972   36.088  13079460  739.981106"
      ]
     },
     "execution_count": 7,
     "metadata": {},
     "output_type": "execute_result"
    }
   ],
   "source": [
    "# Example: Displaying the first few rows\n",
    "df.head()"
   ]
  },
  {
   "cell_type": "code",
   "execution_count": 8,
   "id": "0885959a-bd5a-413b-a0c2-65e31c9992b0",
   "metadata": {},
   "outputs": [
    {
     "data": {
      "text/html": [
       "<div>\n",
       "<style scoped>\n",
       "    .dataframe tbody tr th:only-of-type {\n",
       "        vertical-align: middle;\n",
       "    }\n",
       "\n",
       "    .dataframe tbody tr th {\n",
       "        vertical-align: top;\n",
       "    }\n",
       "\n",
       "    .dataframe thead th {\n",
       "        text-align: right;\n",
       "    }\n",
       "</style>\n",
       "<table border=\"1\" class=\"dataframe\">\n",
       "  <thead>\n",
       "    <tr style=\"text-align: right;\">\n",
       "      <th></th>\n",
       "      <th>country</th>\n",
       "      <th>continent</th>\n",
       "      <th>year</th>\n",
       "      <th>lifeExp</th>\n",
       "      <th>pop</th>\n",
       "      <th>gdpPercap</th>\n",
       "    </tr>\n",
       "  </thead>\n",
       "  <tbody>\n",
       "    <tr>\n",
       "      <th>1699</th>\n",
       "      <td>Zimbabwe</td>\n",
       "      <td>Africa</td>\n",
       "      <td>1987</td>\n",
       "      <td>62.351</td>\n",
       "      <td>9216418</td>\n",
       "      <td>706.157306</td>\n",
       "    </tr>\n",
       "    <tr>\n",
       "      <th>1700</th>\n",
       "      <td>Zimbabwe</td>\n",
       "      <td>Africa</td>\n",
       "      <td>1992</td>\n",
       "      <td>60.377</td>\n",
       "      <td>10704340</td>\n",
       "      <td>693.420786</td>\n",
       "    </tr>\n",
       "    <tr>\n",
       "      <th>1701</th>\n",
       "      <td>Zimbabwe</td>\n",
       "      <td>Africa</td>\n",
       "      <td>1997</td>\n",
       "      <td>46.809</td>\n",
       "      <td>11404948</td>\n",
       "      <td>792.449960</td>\n",
       "    </tr>\n",
       "    <tr>\n",
       "      <th>1702</th>\n",
       "      <td>Zimbabwe</td>\n",
       "      <td>Africa</td>\n",
       "      <td>2002</td>\n",
       "      <td>39.989</td>\n",
       "      <td>11926563</td>\n",
       "      <td>672.038623</td>\n",
       "    </tr>\n",
       "    <tr>\n",
       "      <th>1703</th>\n",
       "      <td>Zimbabwe</td>\n",
       "      <td>Africa</td>\n",
       "      <td>2007</td>\n",
       "      <td>43.487</td>\n",
       "      <td>12311143</td>\n",
       "      <td>469.709298</td>\n",
       "    </tr>\n",
       "  </tbody>\n",
       "</table>\n",
       "</div>"
      ],
      "text/plain": [
       "       country continent  year  lifeExp       pop   gdpPercap\n",
       "1699  Zimbabwe    Africa  1987   62.351   9216418  706.157306\n",
       "1700  Zimbabwe    Africa  1992   60.377  10704340  693.420786\n",
       "1701  Zimbabwe    Africa  1997   46.809  11404948  792.449960\n",
       "1702  Zimbabwe    Africa  2002   39.989  11926563  672.038623\n",
       "1703  Zimbabwe    Africa  2007   43.487  12311143  469.709298"
      ]
     },
     "execution_count": 8,
     "metadata": {},
     "output_type": "execute_result"
    }
   ],
   "source": [
    "# Example: Displaying the last few rows\n",
    "df.tail()"
   ]
  },
  {
   "cell_type": "markdown",
   "id": "8f7a63b6-7844-4737-b46f-03e00387e4b3",
   "metadata": {},
   "source": [
    "## Selecting Columns\n",
    "\n",
    "You can select one or more columns from a DataFrame by passing the column names inside square brackets `[]`."
   ]
  },
  {
   "cell_type": "code",
   "execution_count": 9,
   "id": "6d28f824-ece4-4714-9fd2-601c3df0d0a4",
   "metadata": {},
   "outputs": [
    {
     "name": "stdout",
     "output_type": "stream",
     "text": [
      "0    1952\n",
      "1    1957\n",
      "2    1962\n",
      "3    1967\n",
      "4    1972\n",
      "Name: year, dtype: int64\n"
     ]
    }
   ],
   "source": [
    "# Example: Selecting a single column\n",
    "selected_column = df['year']\n",
    "print(selected_column.head())"
   ]
  },
  {
   "cell_type": "code",
   "execution_count": 10,
   "id": "40f0c30c-0cb8-4786-a7b1-ad1f34361b1c",
   "metadata": {},
   "outputs": [
    {
     "name": "stdout",
     "output_type": "stream",
     "text": [
      "       country       pop\n",
      "0  Afghanistan   8425333\n",
      "1  Afghanistan   9240934\n",
      "2  Afghanistan  10267083\n",
      "3  Afghanistan  11537966\n",
      "4  Afghanistan  13079460\n"
     ]
    }
   ],
   "source": [
    "# Example: Selecting multiple columns\n",
    "selected_columns = df[['country', 'pop']]\n",
    "print(selected_columns.head())"
   ]
  },
  {
   "cell_type": "markdown",
   "id": "7befb94a-5838-4627-901d-c1364da31f13",
   "metadata": {},
   "source": [
    "## Subsetting with `loc`\n",
    "\n",
    "The `loc` method is used for label-based indexing, and rows and columns can be selected based on their labels. When you use `loc[]` for selection, you have more control and flexibility. `loc[]` is used for label-based indexing, allowing you to select rows, columns, or both simultaneously."
   ]
  },
  {
   "cell_type": "code",
   "execution_count": 4,
   "id": "495e779e-8e9a-4fc5-b2c2-b77af97d0ffb",
   "metadata": {},
   "outputs": [
    {
     "data": {
      "text/html": [
       "<div>\n",
       "<style scoped>\n",
       "    .dataframe tbody tr th:only-of-type {\n",
       "        vertical-align: middle;\n",
       "    }\n",
       "\n",
       "    .dataframe tbody tr th {\n",
       "        vertical-align: top;\n",
       "    }\n",
       "\n",
       "    .dataframe thead th {\n",
       "        text-align: right;\n",
       "    }\n",
       "</style>\n",
       "<table border=\"1\" class=\"dataframe\">\n",
       "  <thead>\n",
       "    <tr style=\"text-align: right;\">\n",
       "      <th></th>\n",
       "      <th>year</th>\n",
       "      <th>country</th>\n",
       "      <th>pop</th>\n",
       "    </tr>\n",
       "  </thead>\n",
       "  <tbody>\n",
       "    <tr>\n",
       "      <th>0</th>\n",
       "      <td>1952</td>\n",
       "      <td>Afghanistan</td>\n",
       "      <td>8425333</td>\n",
       "    </tr>\n",
       "    <tr>\n",
       "      <th>1</th>\n",
       "      <td>1957</td>\n",
       "      <td>Afghanistan</td>\n",
       "      <td>9240934</td>\n",
       "    </tr>\n",
       "    <tr>\n",
       "      <th>2</th>\n",
       "      <td>1962</td>\n",
       "      <td>Afghanistan</td>\n",
       "      <td>10267083</td>\n",
       "    </tr>\n",
       "    <tr>\n",
       "      <th>3</th>\n",
       "      <td>1967</td>\n",
       "      <td>Afghanistan</td>\n",
       "      <td>11537966</td>\n",
       "    </tr>\n",
       "  </tbody>\n",
       "</table>\n",
       "</div>"
      ],
      "text/plain": [
       "   year      country       pop\n",
       "0  1952  Afghanistan   8425333\n",
       "1  1957  Afghanistan   9240934\n",
       "2  1962  Afghanistan  10267083\n",
       "3  1967  Afghanistan  11537966"
      ]
     },
     "execution_count": 4,
     "metadata": {},
     "output_type": "execute_result"
    }
   ],
   "source": [
    "# Example: Subsetting rows and columns using `loc`\n",
    "subset_loc = df.loc[0:3, ['year','country', 'pop']]\n",
    "subset_loc"
   ]
  },
  {
   "cell_type": "markdown",
   "id": "eef9491f-e253-494a-a401-793e78632747",
   "metadata": {},
   "source": [
    "## Subsetting with `iloc`\n",
    "\n",
    "The `iloc` method is used for position-based indexing and can select rows and columns based on their integer positions."
   ]
  },
  {
   "cell_type": "code",
   "execution_count": 12,
   "id": "71835c94-b44d-47ef-9e34-39f7dbb9049b",
   "metadata": {},
   "outputs": [
    {
     "data": {
      "text/html": [
       "<div>\n",
       "<style scoped>\n",
       "    .dataframe tbody tr th:only-of-type {\n",
       "        vertical-align: middle;\n",
       "    }\n",
       "\n",
       "    .dataframe tbody tr th {\n",
       "        vertical-align: top;\n",
       "    }\n",
       "\n",
       "    .dataframe thead th {\n",
       "        text-align: right;\n",
       "    }\n",
       "</style>\n",
       "<table border=\"1\" class=\"dataframe\">\n",
       "  <thead>\n",
       "    <tr style=\"text-align: right;\">\n",
       "      <th></th>\n",
       "      <th>country</th>\n",
       "      <th>continent</th>\n",
       "    </tr>\n",
       "  </thead>\n",
       "  <tbody>\n",
       "    <tr>\n",
       "      <th>0</th>\n",
       "      <td>Afghanistan</td>\n",
       "      <td>Asia</td>\n",
       "    </tr>\n",
       "    <tr>\n",
       "      <th>1</th>\n",
       "      <td>Afghanistan</td>\n",
       "      <td>Asia</td>\n",
       "    </tr>\n",
       "    <tr>\n",
       "      <th>2</th>\n",
       "      <td>Afghanistan</td>\n",
       "      <td>Asia</td>\n",
       "    </tr>\n",
       "    <tr>\n",
       "      <th>3</th>\n",
       "      <td>Afghanistan</td>\n",
       "      <td>Asia</td>\n",
       "    </tr>\n",
       "    <tr>\n",
       "      <th>4</th>\n",
       "      <td>Afghanistan</td>\n",
       "      <td>Asia</td>\n",
       "    </tr>\n",
       "  </tbody>\n",
       "</table>\n",
       "</div>"
      ],
      "text/plain": [
       "       country continent\n",
       "0  Afghanistan      Asia\n",
       "1  Afghanistan      Asia\n",
       "2  Afghanistan      Asia\n",
       "3  Afghanistan      Asia\n",
       "4  Afghanistan      Asia"
      ]
     },
     "execution_count": 12,
     "metadata": {},
     "output_type": "execute_result"
    }
   ],
   "source": [
    "# Example: Subsetting rows and columns using `iloc`\n",
    "subset_iloc = df.iloc[0:5, [0, 1]]\n",
    "subset_iloc"
   ]
  },
  {
   "cell_type": "markdown",
   "id": "7745e2bc-66b7-4789-94b3-85caca83650b",
   "metadata": {},
   "source": [
    "## Slicing Data\n",
    "\n",
    "Slicing refers to selecting a subset of rows or columns. You can slice data by specifying the range of indices."
   ]
  },
  {
   "cell_type": "code",
   "execution_count": 13,
   "id": "d73a11c4-bf73-48d0-9132-2c2daa2d221a",
   "metadata": {},
   "outputs": [
    {
     "data": {
      "text/html": [
       "<div>\n",
       "<style scoped>\n",
       "    .dataframe tbody tr th:only-of-type {\n",
       "        vertical-align: middle;\n",
       "    }\n",
       "\n",
       "    .dataframe tbody tr th {\n",
       "        vertical-align: top;\n",
       "    }\n",
       "\n",
       "    .dataframe thead th {\n",
       "        text-align: right;\n",
       "    }\n",
       "</style>\n",
       "<table border=\"1\" class=\"dataframe\">\n",
       "  <thead>\n",
       "    <tr style=\"text-align: right;\">\n",
       "      <th></th>\n",
       "      <th>year</th>\n",
       "      <th>lifeExp</th>\n",
       "      <th>pop</th>\n",
       "    </tr>\n",
       "  </thead>\n",
       "  <tbody>\n",
       "    <tr>\n",
       "      <th>10</th>\n",
       "      <td>2002</td>\n",
       "      <td>42.129</td>\n",
       "      <td>25268405</td>\n",
       "    </tr>\n",
       "    <tr>\n",
       "      <th>11</th>\n",
       "      <td>2007</td>\n",
       "      <td>43.828</td>\n",
       "      <td>31889923</td>\n",
       "    </tr>\n",
       "    <tr>\n",
       "      <th>12</th>\n",
       "      <td>1952</td>\n",
       "      <td>55.230</td>\n",
       "      <td>1282697</td>\n",
       "    </tr>\n",
       "    <tr>\n",
       "      <th>13</th>\n",
       "      <td>1957</td>\n",
       "      <td>59.280</td>\n",
       "      <td>1476505</td>\n",
       "    </tr>\n",
       "    <tr>\n",
       "      <th>14</th>\n",
       "      <td>1962</td>\n",
       "      <td>64.820</td>\n",
       "      <td>1728137</td>\n",
       "    </tr>\n",
       "    <tr>\n",
       "      <th>15</th>\n",
       "      <td>1967</td>\n",
       "      <td>66.220</td>\n",
       "      <td>1984060</td>\n",
       "    </tr>\n",
       "    <tr>\n",
       "      <th>16</th>\n",
       "      <td>1972</td>\n",
       "      <td>67.690</td>\n",
       "      <td>2263554</td>\n",
       "    </tr>\n",
       "    <tr>\n",
       "      <th>17</th>\n",
       "      <td>1977</td>\n",
       "      <td>68.930</td>\n",
       "      <td>2509048</td>\n",
       "    </tr>\n",
       "    <tr>\n",
       "      <th>18</th>\n",
       "      <td>1982</td>\n",
       "      <td>70.420</td>\n",
       "      <td>2780097</td>\n",
       "    </tr>\n",
       "    <tr>\n",
       "      <th>19</th>\n",
       "      <td>1987</td>\n",
       "      <td>72.000</td>\n",
       "      <td>3075321</td>\n",
       "    </tr>\n",
       "  </tbody>\n",
       "</table>\n",
       "</div>"
      ],
      "text/plain": [
       "    year  lifeExp       pop\n",
       "10  2002   42.129  25268405\n",
       "11  2007   43.828  31889923\n",
       "12  1952   55.230   1282697\n",
       "13  1957   59.280   1476505\n",
       "14  1962   64.820   1728137\n",
       "15  1967   66.220   1984060\n",
       "16  1972   67.690   2263554\n",
       "17  1977   68.930   2509048\n",
       "18  1982   70.420   2780097\n",
       "19  1987   72.000   3075321"
      ]
     },
     "execution_count": 13,
     "metadata": {},
     "output_type": "execute_result"
    }
   ],
   "source": [
    "# Example: Slicing rows 10 to 20 and columns 2 to 4\n",
    "sliced_data = df.iloc[10:20, 2:5]\n",
    "sliced_data"
   ]
  },
  {
   "cell_type": "markdown",
   "id": "ba763e93-a346-44eb-8021-01d2a409b58d",
   "metadata": {},
   "source": [
    "## Grouping Data with `groupby`\n",
    "\n",
    "The `groupby()` method is used to group data based on the values of one or more columns, often followed by an aggregation function to summarize the data."
   ]
  },
  {
   "cell_type": "code",
   "execution_count": 14,
   "id": "e6455bf4-f693-48aa-b9b5-f26a76378649",
   "metadata": {},
   "outputs": [
    {
     "data": {
      "text/plain": [
       "year\n",
       "1952    49.057620\n",
       "1957    51.507401\n",
       "1962    53.609249\n",
       "1967    55.678290\n",
       "1972    57.647386\n",
       "1977    59.570157\n",
       "1982    61.533197\n",
       "1987    63.212613\n",
       "1992    64.160338\n",
       "1997    65.014676\n",
       "2002    65.694923\n",
       "2007    67.007423\n",
       "Name: lifeExp, dtype: float64"
      ]
     },
     "execution_count": 14,
     "metadata": {},
     "output_type": "execute_result"
    }
   ],
   "source": [
    "# Example: Grouping data by a column and calculating the mean for each group\n",
    "grouped_data = df.groupby('year')['lifeExp'].mean()\n",
    "grouped_data"
   ]
  },
  {
   "cell_type": "markdown",
   "id": "a1c7556a-5aca-431b-9c67-aa08683c8f09",
   "metadata": {},
   "source": [
    "## Grouped Frequency\n",
    "\n",
    "You can calculate the frequency of categories within groups by combining `groupby()` with the `size()` method or `count()`."
   ]
  },
  {
   "cell_type": "code",
   "execution_count": 15,
   "id": "bda20c25-95e0-4178-a649-98279a2153be",
   "metadata": {},
   "outputs": [
    {
     "data": {
      "text/plain": [
       "country\n",
       "Afghanistan           12\n",
       "Albania               12\n",
       "Algeria               12\n",
       "Angola                12\n",
       "Argentina             12\n",
       "                      ..\n",
       "Vietnam               12\n",
       "West Bank and Gaza    12\n",
       "Yemen, Rep.           12\n",
       "Zambia                12\n",
       "Zimbabwe              12\n",
       "Name: continent, Length: 142, dtype: int64"
      ]
     },
     "execution_count": 15,
     "metadata": {},
     "output_type": "execute_result"
    }
   ],
   "source": [
    "# Example: Calculating the frequency of values in a column within each group\n",
    "grouped_frequency = df.groupby('country')['continent'].size()\n",
    "grouped_frequency"
   ]
  },
  {
   "cell_type": "markdown",
   "id": "e6eb936d-bea5-45e5-9665-f236c92e0c3d",
   "metadata": {},
   "source": [
    "# Challenge\n",
    "\n",
    "Now that you've learned how to explore and manipulate a DataFrame using Pandas, try to complete the following tasks with a new dataset:\n",
    "\n",
    "1. Load the `devon_and_cornwall_police.csv` file into a DataFrame.\n",
    "2. Explore its shape, columns, and general information using `shape`, `columns`, `info()`, and `describe()`.\n",
    "3. Select specific columns and subset the data using `loc` and `iloc`.\n",
    "4. Group the data by a relevant column and calculate the mean for each group.\n",
    "5. Calculate the frequency of another column within these groups.\n",
    "\n",
    "### Bonus Challenges\n",
    "\n",
    "1. Identify the top 3 locations with the highest number of crimes reported. What are these locations, and how many crimes were reported in each?\n",
    "2. Choose a location (e.g., \"On or near Supermarket\") and determine the most common type of crime reported at that location. How many times was this crime reported?\n",
    "3. For each crime type, what is the most frequent outcome category (e.g., \"Under investigation\", \"Investigation complete; no suspect identified\")? Are there any crime types that consistently lead to a specific outcome?"
   ]
  },
  {
   "cell_type": "code",
   "execution_count": 28,
   "id": "16b4aedf-5e47-481f-8029-072d57ee3452",
   "metadata": {},
   "outputs": [],
   "source": [
    "#1"
   ]
  },
  {
   "cell_type": "code",
   "execution_count": 29,
   "id": "9891ccf1-6c92-480d-8069-fd245b286dbc",
   "metadata": {},
   "outputs": [],
   "source": [
    "#2"
   ]
  },
  {
   "cell_type": "code",
   "execution_count": 30,
   "id": "4d1cb75b-8779-4720-9982-b8b771509c42",
   "metadata": {},
   "outputs": [],
   "source": [
    "#3"
   ]
  },
  {
   "cell_type": "code",
   "execution_count": 31,
   "id": "c1c82521-2cf6-4d93-984a-50664510dd01",
   "metadata": {},
   "outputs": [],
   "source": [
    "#4"
   ]
  },
  {
   "cell_type": "code",
   "execution_count": 32,
   "id": "c23d5ca0-0b8d-48e7-be34-7aaff44c1c4a",
   "metadata": {},
   "outputs": [],
   "source": [
    "#5"
   ]
  },
  {
   "cell_type": "code",
   "execution_count": 33,
   "id": "f0b4eb28-7d90-4380-b5c6-71456659788b",
   "metadata": {},
   "outputs": [],
   "source": [
    "#Bonus 1"
   ]
  },
  {
   "cell_type": "code",
   "execution_count": 34,
   "id": "049b41c6-a163-4879-a97c-c3883b3ec56b",
   "metadata": {},
   "outputs": [],
   "source": [
    "#Bonus 2"
   ]
  },
  {
   "cell_type": "code",
   "execution_count": 35,
   "id": "dabe7a9c-1278-442a-846f-7c3623d3eeff",
   "metadata": {},
   "outputs": [],
   "source": [
    "#Bonus 3"
   ]
  }
 ],
 "metadata": {
  "kernelspec": {
   "display_name": "Python 3",
   "language": "python",
   "name": "python3"
  },
  "language_info": {
   "codemirror_mode": {
    "name": "ipython",
    "version": 3
   },
   "file_extension": ".py",
   "mimetype": "text/x-python",
   "name": "python",
   "nbconvert_exporter": "python",
   "pygments_lexer": "ipython3",
   "version": "3.12.1"
  }
 },
 "nbformat": 4,
 "nbformat_minor": 5
}
