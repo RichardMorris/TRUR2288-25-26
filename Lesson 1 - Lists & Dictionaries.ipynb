{
 "cells": [
  {
   "cell_type": "markdown",
   "id": "275addf7-0a82-46b1-9d56-a8a578ef64ff",
   "metadata": {},
   "source": [
    "# Introduction to Data Analytics\n",
    "\n",
    "Data analytics involves examining raw data to conclude that information. It is used across various industries to make better business decisions and to verify or disprove scientific models and theories.\n",
    "\n",
    "In this notebook, we'll cover the following:\n",
    "- A quick review of Python basics: lists and dictionaries.\n",
    "- Challenges to apply what you've learned.\n"
   ]
  },
  {
   "cell_type": "markdown",
   "id": "042afa02-3636-4654-9cf6-39ac415a8f1b",
   "metadata": {},
   "source": [
    "# Introduction to Lists\n",
    "\n",
    "A list is a versatile data structure in Python that can hold an ordered collection of items, which can be of different types (like integers, strings, or even other lists).\n"
   ]
  },
  {
   "cell_type": "markdown",
   "id": "0817e4e4-a91f-4421-bd56-af68602d274d",
   "metadata": {},
   "source": [
    "## Creating a List\n",
    "\n",
    "To create a list, you simply place your items inside square brackets `[]`, separated by commas."
   ]
  },
  {
   "cell_type": "code",
   "execution_count": 1,
   "id": "6cb915cb-24cb-4b4c-8aad-a96c138576f4",
   "metadata": {},
   "outputs": [
    {
     "name": "stdout",
     "output_type": "stream",
     "text": [
      "My List: [10, 20, 30, 40, 50]\n",
      "Mixed List: [1, 'Hello', 3.14, True]\n"
     ]
    }
   ],
   "source": [
    "# Example: Creating a list of numbers\n",
    "my_list = [10, 20, 30, 40, 50]\n",
    "print(\"My List:\", my_list)\n",
    "\n",
    "# Example: Creating a list of mixed data types\n",
    "mixed_list = [1, \"Hello\", 3.14, True]\n",
    "print(\"Mixed List:\", mixed_list)"
   ]
  },
  {
   "cell_type": "markdown",
   "id": "d38a74f4-ac1f-4f97-bf18-88df88a1c950",
   "metadata": {},
   "source": [
    "## List Length\n",
    "\n",
    "You can find out how many items are in a list by using the `len()` function."
   ]
  },
  {
   "cell_type": "code",
   "execution_count": 2,
   "id": "53de93a8-bc41-4561-886a-20e12986e824",
   "metadata": {},
   "outputs": [
    {
     "name": "stdout",
     "output_type": "stream",
     "text": [
      "Length of My List: 5\n"
     ]
    }
   ],
   "source": [
    "# Example: Finding the length of a list\n",
    "length_of_my_list = len(my_list)\n",
    "print(\"Length of My List:\", length_of_my_list)"
   ]
  },
  {
   "cell_type": "markdown",
   "id": "5e8f0efb-77ea-4bbf-904f-5e4630e73fb4",
   "metadata": {},
   "source": [
    "## List Indexing\n",
    "\n",
    "Each item in a list has an index that starts at 0 for the first item. You can retrieve an item from the list using its index."
   ]
  },
  {
   "cell_type": "code",
   "execution_count": 3,
   "id": "22cb4ca1-98cc-4b52-808f-461e51268f9c",
   "metadata": {},
   "outputs": [
    {
     "name": "stdout",
     "output_type": "stream",
     "text": [
      "First item: 10\n",
      "Third item: 30\n"
     ]
    }
   ],
   "source": [
    "# Example: Retrieving elements using positive indexing\n",
    "first_item = my_list[0]\n",
    "third_item = my_list[2]\n",
    "\n",
    "print(\"First item:\", first_item)\n",
    "print(\"Third item:\", third_item)"
   ]
  },
  {
   "cell_type": "markdown",
   "id": "b77ba8cc-c002-4153-9ac7-67fd430ff6c5",
   "metadata": {},
   "source": [
    "## Retrieving Values from a List\n",
    "\n",
    "You can access individual elements in a list by their index."
   ]
  },
  {
   "cell_type": "code",
   "execution_count": 4,
   "id": "d0c3ff24-2d27-4e91-9f22-c5493075b811",
   "metadata": {},
   "outputs": [
    {
     "name": "stdout",
     "output_type": "stream",
     "text": [
      "Second item: 20\n"
     ]
    }
   ],
   "source": [
    "# Example: Accessing elements\n",
    "second_item = my_list[1]\n",
    "print(\"Second item:\", second_item)"
   ]
  },
  {
   "cell_type": "markdown",
   "id": "b9a89e6c-e448-40ae-931e-1ae0d8accf66",
   "metadata": {},
   "source": [
    "## Negative Indexing\n",
    "\n",
    "Negative indexing allows you to access elements from the end of the list. The last item has an index of -1, the second to last has an index of -2, and so on."
   ]
  },
  {
   "cell_type": "code",
   "execution_count": 5,
   "id": "9f13f2b2-aa25-4438-8a67-d02f128194bc",
   "metadata": {},
   "outputs": [
    {
     "name": "stdout",
     "output_type": "stream",
     "text": [
      "Last item: 50\n",
      "Second to last item: 40\n"
     ]
    }
   ],
   "source": [
    "# Example: Retrieving elements using negative indexing\n",
    "last_item = my_list[-1]\n",
    "second_last_item = my_list[-2]\n",
    "\n",
    "print(\"Last item:\", last_item)\n",
    "print(\"Second to last item:\", second_last_item)"
   ]
  },
  {
   "cell_type": "markdown",
   "id": "57591f0d-37d5-4c59-8880-0a4daf1ddac4",
   "metadata": {},
   "source": [
    "## Retrieving Multiple List Elements\n",
    "\n",
    "You can retrieve multiple elements by using list slicing, which involves specifying a start and stop index."
   ]
  },
  {
   "cell_type": "code",
   "execution_count": 6,
   "id": "3935c508-e2ef-4c63-929c-15df5f540713",
   "metadata": {},
   "outputs": [
    {
     "name": "stdout",
     "output_type": "stream",
     "text": [
      "Sub-list: [20, 30, 40]\n"
     ]
    }
   ],
   "source": [
    "# Example: Slicing a list to retrieve multiple elements\n",
    "sub_list = my_list[1:4]  # Retrieves items at index 1, 2, and 3\n",
    "print(\"Sub-list:\", sub_list)"
   ]
  },
  {
   "cell_type": "markdown",
   "id": "5638e75b-885a-4249-a77d-f28739f93073",
   "metadata": {},
   "source": [
    "## List Slicing\n",
    "\n",
    "Slicing a list allows you to create a new list from a subset of elements. The syntax is `list[start:stop]`, where `start` is the index to begin at, and `stop` is the index to end before (not included)."
   ]
  },
  {
   "cell_type": "code",
   "execution_count": 7,
   "id": "b3e53844-54bf-483f-84bf-dbb7be3a8e2c",
   "metadata": {},
   "outputs": [
    {
     "name": "stdout",
     "output_type": "stream",
     "text": [
      "Start slice: [10, 20, 30]\n",
      "End slice: [30, 40, 50]\n",
      "Selection: [30, 40]\n"
     ]
    }
   ],
   "source": [
    "# Example: Slicing from the beginning to a specific index\n",
    "start_slice = my_list[:3]  # First three elements\n",
    "print(\"Start slice:\", start_slice)\n",
    "\n",
    "# Example: Slicing from a specific index to the end\n",
    "end_slice = my_list[2:]  # Elements from index 2 to the end\n",
    "print(\"End slice:\", end_slice)\n",
    "\n",
    "# Example: Selection from a list\n",
    "selection = my_list[2:4]\n",
    "print(\"Selection:\", selection)"
   ]
  },
  {
   "cell_type": "markdown",
   "id": "3c35e98d-86fe-4ede-b549-2ec4d1c317fc",
   "metadata": {},
   "source": [
    "## List of Lists\n",
    "\n",
    "A list can contain other lists as elements. This is known as a \"list of lists,\" which allows for more complex data structures."
   ]
  },
  {
   "cell_type": "code",
   "execution_count": 8,
   "id": "9f162e58-569b-481e-9d80-301c17f82572",
   "metadata": {},
   "outputs": [
    {
     "name": "stdout",
     "output_type": "stream",
     "text": [
      "List of Lists: [[1, 2, 3], [4, 5, 6], [7, 8, 9]]\n"
     ]
    }
   ],
   "source": [
    "# Example: Creating a list of lists\n",
    "list_of_lists = [[1, 2, 3], [4, 5, 6], [7, 8, 9]]\n",
    "print(\"List of Lists:\", list_of_lists)"
   ]
  },
  {
   "cell_type": "markdown",
   "id": "d60a09a2-f971-461e-9e33-c9125eea3247",
   "metadata": {},
   "source": [
    "## Retrieving from a List of Lists\n",
    "\n",
    "You can access individual elements within a list of lists by chaining indices together."
   ]
  },
  {
   "cell_type": "code",
   "execution_count": 9,
   "id": "1a8d9a82-2579-4041-a8d2-62bb9442d4cd",
   "metadata": {},
   "outputs": [
    {
     "name": "stdout",
     "output_type": "stream",
     "text": [
      "First List: [1, 2, 3]\n",
      "First element of the first list: 1\n"
     ]
    }
   ],
   "source": [
    "# Example: Accessing elements within a list of lists\n",
    "first_list = list_of_lists[0]  # The first list\n",
    "first_element_of_first_list = list_of_lists[0][0]  # The first element of the first list\n",
    "\n",
    "print(\"First List:\", first_list)\n",
    "print(\"First element of the first list:\", first_element_of_first_list)"
   ]
  },
  {
   "cell_type": "markdown",
   "id": "38c8ef83-5572-4c43-ac9f-f0d6b7484cc9",
   "metadata": {},
   "source": [
    "# Introduction to Dictionaries\n",
    "\n",
    "A dictionary is a collection of key-value pairs in Python. It is an unordered, mutable, and indexed data structure. Each key in a dictionary must be unique and is used to retrieve the corresponding value."
   ]
  },
  {
   "cell_type": "markdown",
   "id": "45113c11-3012-4eae-ba90-631a966793a5",
   "metadata": {},
   "source": [
    "## Creating a Dictionary\n",
    "\n",
    "You can create a dictionary by placing key-value pairs inside curly braces `{}`, separated by commas. The keys and values are separated by a colon `:`."
   ]
  },
  {
   "cell_type": "code",
   "execution_count": 10,
   "id": "59955155-de1b-451c-9b9c-65d6d400a791",
   "metadata": {},
   "outputs": [
    {
     "name": "stdout",
     "output_type": "stream",
     "text": [
      "Fruit Dictionary: {'apples': 10, 'bananas': 20, 'oranges': 15, 'pears': 5}\n"
     ]
    }
   ],
   "source": [
    "# Example: Creating a dictionary with fruit names and their quantities\n",
    "fruit_dict = {\n",
    "    'apples': 10,\n",
    "    'bananas': 20,\n",
    "    'oranges': 15,\n",
    "    'pears': 5\n",
    "}\n",
    "print(\"Fruit Dictionary:\", fruit_dict)"
   ]
  },
  {
   "cell_type": "markdown",
   "id": "6e3e67f9-8960-46f4-99f9-9f5fe1c5b15a",
   "metadata": {},
   "source": [
    "## Indexing (Accessing Values by Keys)\n",
    "\n",
    "You can access the value associated with a key by placing the key inside square brackets `[]`."
   ]
  },
  {
   "cell_type": "code",
   "execution_count": 11,
   "id": "00c6b489-4e86-4245-8c5a-7e4a1e3c558f",
   "metadata": {},
   "outputs": [
    {
     "name": "stdout",
     "output_type": "stream",
     "text": [
      "Number of Bananas: 20\n"
     ]
    }
   ],
   "source": [
    "# Example: Accessing the quantity of bananas\n",
    "bananas_count = fruit_dict['bananas']\n",
    "print(\"Number of Bananas:\", bananas_count)"
   ]
  },
  {
   "cell_type": "markdown",
   "id": "d34382a4-5829-42aa-9d08-abb0c96f1df8",
   "metadata": {},
   "source": [
    "## Key-Value Pairs\n",
    "\n",
    "Each entry in a dictionary is a key-value pair. You can retrieve all keys, all values, or all key-value pairs using dictionary methods."
   ]
  },
  {
   "cell_type": "code",
   "execution_count": 12,
   "id": "0016a4da-6e67-46d1-9b71-ddccd413eefd",
   "metadata": {},
   "outputs": [
    {
     "name": "stdout",
     "output_type": "stream",
     "text": [
      "Keys: dict_keys(['apples', 'bananas', 'oranges', 'pears'])\n",
      "Values: dict_values([10, 20, 15, 5])\n",
      "Key-Value Pairs: dict_items([('apples', 10), ('bananas', 20), ('oranges', 15), ('pears', 5)])\n"
     ]
    }
   ],
   "source": [
    "# Example: Retrieving all keys and all values\n",
    "all_keys = fruit_dict.keys()\n",
    "all_values = fruit_dict.values()\n",
    "\n",
    "print(\"Keys:\", all_keys)\n",
    "print(\"Values:\", all_values)\n",
    "\n",
    "# Example: Retrieving all key-value pairs\n",
    "all_items = fruit_dict.items()\n",
    "print(\"Key-Value Pairs:\", all_items)"
   ]
  },
  {
   "cell_type": "markdown",
   "id": "02a2e8ba-8519-4516-be49-b57a9be144ae",
   "metadata": {},
   "source": [
    "## Updating Values\n",
    "\n",
    "You can update the value associated with a key by using the assignment operator `=`."
   ]
  },
  {
   "cell_type": "code",
   "execution_count": 13,
   "id": "61600315-8cb6-4a4c-9d62-6018ede36a97",
   "metadata": {},
   "outputs": [
    {
     "name": "stdout",
     "output_type": "stream",
     "text": [
      "Updated Fruit Dictionary: {'apples': 12, 'bananas': 20, 'oranges': 15, 'pears': 5}\n"
     ]
    }
   ],
   "source": [
    "# Example: Updating the quantity of apples\n",
    "fruit_dict['apples'] = 12\n",
    "print(\"Updated Fruit Dictionary:\", fruit_dict)"
   ]
  },
  {
   "cell_type": "markdown",
   "id": "c04f5d89-fc3a-4b89-af48-5508ecbc77c4",
   "metadata": {},
   "source": [
    "## Finding Unique Values\n",
    "\n",
    "Sometimes, you may want to know all the unique values in a dictionary. You can achieve this by converting the dictionary values to a set, which automatically removes duplicates."
   ]
  },
  {
   "cell_type": "code",
   "execution_count": 14,
   "id": "a0e314a8-84c8-4434-b0cd-43898918075b",
   "metadata": {},
   "outputs": [
    {
     "name": "stdout",
     "output_type": "stream",
     "text": [
      "Unique Values: {5, 12, 20, 15}\n"
     ]
    }
   ],
   "source": [
    "# Example: Finding unique quantities of fruits\n",
    "unique_values = set(fruit_dict.values())\n",
    "print(\"Unique Values:\", unique_values)"
   ]
  },
  {
   "cell_type": "markdown",
   "id": "5bcb7ef1-808c-43e2-9fbb-bb689ad8a8d1",
   "metadata": {},
   "source": [
    "## Counting Unique Content\n",
    "\n",
    "To count how many times each value appears in the dictionary, you can iterate through the values and use another dictionary to keep track of counts."
   ]
  },
  {
   "cell_type": "code",
   "execution_count": 15,
   "id": "b6f66d4c-0fe6-4933-afb4-3718bdc1e63a",
   "metadata": {},
   "outputs": [
    {
     "name": "stdout",
     "output_type": "stream",
     "text": [
      "Value Counts: {12: 1, 20: 1, 15: 1, 5: 1}\n"
     ]
    }
   ],
   "source": [
    "# Example: Counting the frequency of each quantity\n",
    "value_counts = {}\n",
    "\n",
    "for value in fruit_dict.values():\n",
    "    if value in value_counts:\n",
    "        value_counts[value] += 1\n",
    "    else:\n",
    "        value_counts[value] = 1\n",
    "\n",
    "print(\"Value Counts:\", value_counts)"
   ]
  },
  {
   "cell_type": "markdown",
   "id": "cec77c8b-1e19-44ea-80ca-82b2493f0e0a",
   "metadata": {},
   "source": [
    "## Proportions and Percentages\n",
    "\n",
    "You can calculate the proportion and percentage of each value relative to the total sum of all values."
   ]
  },
  {
   "cell_type": "code",
   "execution_count": 16,
   "id": "d965c67c-2f7a-47ef-94c5-c5e1dad46579",
   "metadata": {},
   "outputs": [
    {
     "name": "stdout",
     "output_type": "stream",
     "text": [
      "Total number of fruits: 52\n",
      "Proportions: {'apples': 0.23076923076923078, 'bananas': 0.38461538461538464, 'oranges': 0.28846153846153844, 'pears': 0.09615384615384616}\n",
      "Percentages: {'apples': 23.076923076923077, 'bananas': 38.46153846153847, 'oranges': 28.846153846153843, 'pears': 9.615384615384617}\n"
     ]
    }
   ],
   "source": [
    "# Example: Calculating proportions and percentages of fruit quantities\n",
    "\n",
    "# Step 1: Calculate the total number of fruits\n",
    "total_fruits = sum(fruit_dict.values())\n",
    "print(\"Total number of fruits:\", total_fruits)\n",
    "\n",
    "# Step 2: Initialize empty dictionaries for proportions and percentages\n",
    "proportions = {}\n",
    "percentages = {}\n",
    "\n",
    "# Step 3: Calculate the proportion and percentage for each fruit type\n",
    "for key, value in fruit_dict.items():\n",
    "    proportion = value / total_fruits  # Calculate proportion\n",
    "    percentage = (value / total_fruits) * 100  # Calculate percentage\n",
    "    \n",
    "    # Store the results in the dictionaries\n",
    "    proportions[key] = proportion\n",
    "    percentages[key] = percentage\n",
    "\n",
    "# Step 4: Print the results\n",
    "print(\"Proportions:\", proportions)\n",
    "print(\"Percentages:\", percentages)"
   ]
  },
  {
   "cell_type": "markdown",
   "id": "c499b188-62ba-4722-87f5-9a22e31aae95",
   "metadata": {},
   "source": [
    "## Frequency Distribution\n",
    "\n",
    "You can filter a dictionary based on conditions applied to its values, such as selecting key-value pairs where the value falls within a certain range. We'll break this process down into multiple steps."
   ]
  },
  {
   "cell_type": "code",
   "execution_count": 17,
   "id": "22b6a380-bf33-4366-8974-aed84d485880",
   "metadata": {},
   "outputs": [
    {
     "name": "stdout",
     "output_type": "stream",
     "text": [
      "Age Group Counts: {'0-18': 2, '19-35': 3, '36-50': 1, '51-70': 2, '71+': 1}\n"
     ]
    }
   ],
   "source": [
    "# Step 1: Define a list of ages and a dictionary to store age group counts\n",
    "ages = {\n",
    "    'Alice': 25,\n",
    "    'Bob': 42,\n",
    "    'Charlie': 17,\n",
    "    'David': 32,\n",
    "    'Eva': 15,\n",
    "    'Frank': 70,\n",
    "    'Grace': 55,\n",
    "    'Helen': 82,\n",
    "    'Ian': 29\n",
    "}\n",
    "\n",
    "age_groups = {\n",
    "    '0-18': 0,\n",
    "    '19-35': 0,\n",
    "    '36-50': 0,\n",
    "    '51-70': 0,\n",
    "    '71+': 0\n",
    "}\n",
    "\n",
    "# Step 2: Iterate through the dictionary and categorize each age\n",
    "for name, age in ages.items():\n",
    "    if age <= 18:\n",
    "        age_groups['0-18'] += 1\n",
    "    elif 19 <= age <= 35:\n",
    "        age_groups['19-35'] += 1\n",
    "    elif 36 <= age <= 50:\n",
    "        age_groups['36-50'] += 1\n",
    "    elif 51 <= age <= 70:\n",
    "        age_groups['51-70'] += 1\n",
    "    elif age > 70:\n",
    "        age_groups['71+'] += 1\n",
    "\n",
    "# Step 3: Print the categorized age groups\n",
    "print(\"Age Group Counts:\", age_groups)"
   ]
  },
  {
   "cell_type": "markdown",
   "id": "31b96864-c340-4fc3-b130-aeb8180d9909",
   "metadata": {},
   "source": [
    "# Challenges"
   ]
  },
  {
   "cell_type": "markdown",
   "id": "032948cb-fa91-4103-88ea-40922d5e7c8f",
   "metadata": {},
   "source": [
    "## Challenge: Practice with Movie Lists\n",
    "\n",
    "1. Create a list of your top 5 favourite movies.\n",
    "2. Find out how many movies are on your list.\n",
    "3. Retrieve the first and last movie in the list.\n",
    "4. Use slicing to create a sub-list with the second and third movies.\n",
    "5. Create a list of lists where each list contains details of a movie (title, release year, director, rating).\n",
    "6. Retrieve the director's name of the second movie in your list.\n",
    "\n",
    "**Bonus Challenge**:\n",
    "- Reverse your list of favourite movies.\n",
    "- Add a new movie to your list and update its details in the list of lists."
   ]
  },
  {
   "cell_type": "code",
   "execution_count": null,
   "id": "6686d7fa-10cf-4d22-adac-2a7e66a3b675",
   "metadata": {},
   "outputs": [],
   "source": [
    "#1"
   ]
  },
  {
   "cell_type": "code",
   "execution_count": null,
   "id": "a80bb817-cd5a-4bf0-9ede-4c38556ad508",
   "metadata": {},
   "outputs": [],
   "source": [
    "#2"
   ]
  },
  {
   "cell_type": "code",
   "execution_count": null,
   "id": "8ce37e1e-7249-4e60-af57-c8b3c9d968c9",
   "metadata": {},
   "outputs": [],
   "source": [
    "#3"
   ]
  },
  {
   "cell_type": "code",
   "execution_count": null,
   "id": "ef588342-6de2-4c7c-905c-278ad72705c2",
   "metadata": {},
   "outputs": [],
   "source": [
    "#4"
   ]
  },
  {
   "cell_type": "code",
   "execution_count": null,
   "id": "b98e127e-73f7-490a-8366-f1eb25ab46a4",
   "metadata": {},
   "outputs": [],
   "source": [
    "#5"
   ]
  },
  {
   "cell_type": "code",
   "execution_count": null,
   "id": "6c02bb99-3767-407c-92f3-c14d8f2a30bf",
   "metadata": {},
   "outputs": [],
   "source": [
    "#6"
   ]
  },
  {
   "cell_type": "code",
   "execution_count": null,
   "id": "fe919d2c-6c28-458b-a6b5-2f6f664341eb",
   "metadata": {},
   "outputs": [],
   "source": [
    "# Bonus 1"
   ]
  },
  {
   "cell_type": "code",
   "execution_count": null,
   "id": "d92cfcae-cc5c-44ef-93c3-443b3369a970",
   "metadata": {},
   "outputs": [],
   "source": [
    "# Bonus 2"
   ]
  },
  {
   "cell_type": "markdown",
   "id": "e76a6c4a-866c-48b5-82ef-241d8d7d9127",
   "metadata": {},
   "source": [
    "## Challenge: Practice with Dictionaries (Video Game Sales)\n",
    "\n",
    "Imagine you are analysing the sales data for a series of games released in the past year. You have a dictionary where the keys are the game titles and the values are the number of units sold. Your tasks are as follows:\n",
    "\n",
    "1. **Create a dictionary** where the keys are game titles and the values are the number of units sold. Here’s an example dataset:\n",
    "\n",
    "    - Hogwarts Legacy - 1,500,000 units\n",
    "    - Resident Evil 4 Remake - 1,200,000 units\n",
    "    - Final Fantasy XVI - 1,200,000 units\n",
    "    - Spider-Man: Miles Morales - 2,000,000 units\n",
    "    - Forspoken - 300,000 units\n",
    "    - The Callisto Protocol - 600,000 units\n",
    "    - Dead Space Remake - 850,000 units\n",
    "    - Gran Turismo 7 - 1,500,000 units\n",
    "    - God of War Ragnarök - 3,000,000 units\n",
    "    - Elden Ring - 3,000,000 units\n",
    "      \n",
    "2. **Update the sales figure** for one of the games after a recent promotion or market change.\n",
    "3. **Identify all the unique sales figures** recorded in the dictionary.\n",
    "4. **Count how many times each sales figure appears**.\n",
    "5. **Calculate the proportion and percentage** of each sales figure relative to the total number of units sold.\n",
    "6. **Create a frequency distribution** of the sales data by categorising the games into the following sales ranges: `0-500,000`, `500,001-1,000,000`, `1,000,001-2,000,000`, and `2,000,001+` units. Count how many games fall into each range."
   ]
  },
  {
   "cell_type": "code",
   "execution_count": null,
   "id": "2c8485dd-9794-4ecd-9d4b-7f7ebbc94e80",
   "metadata": {},
   "outputs": [],
   "source": [
    "#1"
   ]
  },
  {
   "cell_type": "code",
   "execution_count": null,
   "id": "f1899d03-5647-432b-a7e9-3e924192c91e",
   "metadata": {},
   "outputs": [],
   "source": [
    "#2"
   ]
  },
  {
   "cell_type": "code",
   "execution_count": null,
   "id": "c7373752-785f-4dd8-866c-79e0d97e832f",
   "metadata": {},
   "outputs": [],
   "source": [
    "#3"
   ]
  },
  {
   "cell_type": "code",
   "execution_count": null,
   "id": "563177ea-e190-4fa0-ba11-126c986a5865",
   "metadata": {},
   "outputs": [],
   "source": [
    "#4"
   ]
  },
  {
   "cell_type": "code",
   "execution_count": null,
   "id": "245034f1-7417-4d2c-a823-eeeb9b4eaf6f",
   "metadata": {},
   "outputs": [],
   "source": [
    "#5"
   ]
  },
  {
   "cell_type": "code",
   "execution_count": null,
   "id": "db15ccd3-283f-46ac-828c-c6906243c6b1",
   "metadata": {},
   "outputs": [],
   "source": [
    "#6"
   ]
  }
 ],
 "metadata": {
  "kernelspec": {
   "display_name": "Python 3 (ipykernel)",
   "language": "python",
   "name": "python3"
  },
  "language_info": {
   "codemirror_mode": {
    "name": "ipython",
    "version": 3
   },
   "file_extension": ".py",
   "mimetype": "text/x-python",
   "name": "python",
   "nbconvert_exporter": "python",
   "pygments_lexer": "ipython3",
   "version": "3.12.5"
  }
 },
 "nbformat": 4,
 "nbformat_minor": 5
}
