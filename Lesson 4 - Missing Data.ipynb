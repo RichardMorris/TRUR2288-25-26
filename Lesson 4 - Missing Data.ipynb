{
 "cells": [
  {
   "cell_type": "markdown",
   "id": "3b63bfeb-2714-4a7c-98dc-b83b4b954672",
   "metadata": {},
   "source": [
    "# Handling Missing Data in Pandas\n",
    "\n",
    "## Introduction\n",
    "In this notebook, we will dive deep into handling missing data using Pandas.\n",
    "Missing data is common in real-world datasets and can arise due to various reasons like data entry errors,\n",
    "incomplete data collection, or merging datasets from different sources.\n",
    "Handling missing data appropriately is crucial for accurate analysis and modeling."
   ]
  },
  {
   "cell_type": "code",
   "execution_count": 1,
   "id": "f0f1c180-718f-493e-8950-ae3fc3aff9e3",
   "metadata": {},
   "outputs": [],
   "source": [
    "import pandas as pd\n",
    "import numpy as np\n",
    "\n",
    "# Creating a sample DataFrame with missing data for demonstration\n",
    "data = {\n",
    "    'Country': ['USA', 'Canada', 'Germany', 'France', 'UK', 'Italy', 'Spain', np.nan],\n",
    "    'GDP': [21.43, 1.73, np.nan, 2.78, 2.83, 2.00, np.nan, np.nan],\n",
    "    'Population': [331, 37.59, 83.02, np.nan, 67.22, 60.36, 46.75, np.nan],\n",
    "    'Life Expectancy': [78.9, 82.3, np.nan, 82.5, 81.2, 82.1, 83.5, np.nan],\n",
    "    'Literacy Rate': [99, np.nan, np.nan, 99, 99, 98, np.nan, np.nan]\n",
    "}\n",
    "\n",
    "df = pd.DataFrame(data)"
   ]
  },
  {
   "cell_type": "code",
   "execution_count": 2,
   "id": "28fd88af-0f82-43c1-892f-49b655cc1bac",
   "metadata": {},
   "outputs": [
    {
     "name": "stdout",
     "output_type": "stream",
     "text": [
      "Original DataFrame:\n",
      "   Country    GDP  Population  Life Expectancy  Literacy Rate\n",
      "0      USA  21.43      331.00             78.9           99.0\n",
      "1   Canada   1.73       37.59             82.3            NaN\n",
      "2  Germany    NaN       83.02              NaN            NaN\n",
      "3   France   2.78         NaN             82.5           99.0\n",
      "4       UK   2.83       67.22             81.2           99.0\n",
      "5    Italy   2.00       60.36             82.1           98.0\n",
      "6    Spain    NaN       46.75             83.5            NaN\n",
      "7      NaN    NaN         NaN              NaN            NaN\n",
      "             GDP  Population  Life Expectancy  Literacy Rate\n",
      "count   5.000000    6.000000         6.000000           4.00\n",
      "mean    6.154000  104.323333        81.750000          98.75\n",
      "std     8.553019  112.172726         1.579557           0.50\n",
      "min     1.730000   37.590000        78.900000          98.00\n",
      "25%     2.000000   50.152500        81.425000          98.75\n",
      "50%     2.780000   63.790000        82.200000          99.00\n",
      "75%     2.830000   79.070000        82.450000          99.00\n",
      "max    21.430000  331.000000        83.500000          99.00\n"
     ]
    }
   ],
   "source": [
    "print(\"Original DataFrame:\")\n",
    "print(df)\n",
    "print(df.describe())"
   ]
  },
  {
   "cell_type": "markdown",
   "id": "c7186fe2-5f2c-4b2a-af42-568a172a9478",
   "metadata": {},
   "source": [
    "## Understanding Missing Data\n",
    "Missing data can be problematic because many algorithms require complete datasets to function properly.\n",
    "It can also introduce bias if the missing data is not handled correctly. The first step in dealing with missing data\n",
    "is to understand the nature and extent of the missingness."
   ]
  },
  {
   "cell_type": "markdown",
   "id": "002eef37-f1bc-4c6f-9ec4-e73e29764f83",
   "metadata": {},
   "source": [
    "## Identifying Missing Data\n",
    "To identify where missing data exists, we can use the `isnull()` method, which returns a DataFrame of the same shape as `df`,\n",
    "with `True` where the values are `NaN` and `False` elsewhere."
   ]
  },
  {
   "cell_type": "code",
   "execution_count": 4,
   "id": "e32e31a5-fc1c-4e22-b9e8-08d87dc8f508",
   "metadata": {},
   "outputs": [
    {
     "name": "stdout",
     "output_type": "stream",
     "text": [
      "\n",
      "Identifying Missing Data with `isnull()`:\n",
      "   Country    GDP  Population  Life Expectancy  Literacy Rate\n",
      "0    False  False       False            False          False\n",
      "1    False  False       False            False           True\n",
      "2    False   True       False             True           True\n",
      "3    False  False        True            False          False\n",
      "4    False  False       False            False          False\n",
      "5    False  False       False            False          False\n",
      "6    False   True       False            False           True\n",
      "7     True   True        True             True           True\n"
     ]
    }
   ],
   "source": [
    "print(\"\\nIdentifying Missing Data with `isnull()`:\")\n",
    "print(df.isnull())"
   ]
  },
  {
   "cell_type": "markdown",
   "id": "abc70dae-d2d4-437d-9936-f3f7f1cc4248",
   "metadata": {},
   "source": [
    "### To count the total number of missing values in each column, we can use `isnull().sum()`."
   ]
  },
  {
   "cell_type": "code",
   "execution_count": 7,
   "id": "927c313f-78ef-4b07-a96a-617e3b7f4a62",
   "metadata": {},
   "outputs": [
    {
     "name": "stdout",
     "output_type": "stream",
     "text": [
      "\n",
      "Counting Missing Values in Each Column with `isnull().sum()`:\n",
      "Country            1\n",
      "GDP                3\n",
      "Population         2\n",
      "Life Expectancy    2\n",
      "Literacy Rate      4\n",
      "Missing Count      0\n",
      "dtype: int64\n"
     ]
    }
   ],
   "source": [
    "print(\"\\nCounting Missing Values in Each Column with `isnull().sum()`:\")\n",
    "print(df.isnull().sum())"
   ]
  },
  {
   "cell_type": "markdown",
   "id": "f070d720-c138-4bda-b74a-0a7e44f6ca40",
   "metadata": {},
   "source": [
    "### To count the total number of missing values in each column, we can use `isnull().sum()(axis=1)`."
   ]
  },
  {
   "cell_type": "code",
   "execution_count": 8,
   "id": "8ea90efb-ac92-43ec-8d9e-ba53780cddcb",
   "metadata": {},
   "outputs": [
    {
     "name": "stdout",
     "output_type": "stream",
     "text": [
      "\n",
      "DataFrame with Missing Value Counts by Row:\n",
      "   Country    GDP  Population  Life Expectancy  Literacy Rate  Missing Count\n",
      "0      USA  21.43      331.00             78.9           99.0              0\n",
      "1   Canada   1.73       37.59             82.3            NaN              1\n",
      "2  Germany    NaN       83.02              NaN            NaN              3\n",
      "3   France   2.78         NaN             82.5           99.0              1\n",
      "4       UK   2.83       67.22             81.2           99.0              0\n",
      "5    Italy   2.00       60.36             82.1           98.0              0\n",
      "6    Spain    NaN       46.75             83.5            NaN              2\n",
      "7      NaN    NaN         NaN              NaN            NaN              5\n"
     ]
    }
   ],
   "source": [
    "# Counting missing values by row\n",
    "df['Missing Count'] = df.isnull().sum(axis=1)\n",
    "print(\"\\nDataFrame with Missing Value Counts by Row:\")\n",
    "print(df)"
   ]
  },
  {
   "cell_type": "markdown",
   "id": "60a58ccc-1dac-458f-9614-2861dc337dc3",
   "metadata": {},
   "source": [
    "### To count the total number of missing values in the entire DataFrame, we can use `isnull().sum().sum()`."
   ]
  },
  {
   "cell_type": "code",
   "execution_count": 9,
   "id": "24f783bc-016b-4a3a-bb0b-76f374aa0f4f",
   "metadata": {},
   "outputs": [
    {
     "name": "stdout",
     "output_type": "stream",
     "text": [
      "\n",
      "Total Number of Missing Values in the DataFrame with `isnull().sum().sum()`:\n",
      "12\n"
     ]
    }
   ],
   "source": [
    "print(\"\\nTotal Number of Missing Values in the DataFrame with `isnull().sum().sum()`:\")\n",
    "print(df.isnull().sum().sum())"
   ]
  },
  {
   "cell_type": "markdown",
   "id": "000ced78-bed7-4c16-903a-a162ad9a868b",
   "metadata": {},
   "source": [
    "## Filling Missing Data with `fillna()`\n",
    "One way to handle missing data is to fill it with a specific value. The `fillna()` method allows us to replace `NaN` values with a specified value."
   ]
  },
  {
   "cell_type": "code",
   "execution_count": 10,
   "id": "c2d8e66d-0dd4-4d84-8fee-5ee2e8cdc1a9",
   "metadata": {},
   "outputs": [
    {
     "name": "stdout",
     "output_type": "stream",
     "text": [
      "\n",
      "DataFrame after filling missing values with 0:\n",
      "   Country    GDP  Population  Life Expectancy  Literacy Rate\n",
      "0      USA  21.43      331.00             78.9           99.0\n",
      "1   Canada   1.73       37.59             82.3            0.0\n",
      "2  Germany   0.00       83.02              0.0            0.0\n",
      "3   France   2.78        0.00             82.5           99.0\n",
      "4       UK   2.83       67.22             81.2           99.0\n",
      "5    Italy   2.00       60.36             82.1           98.0\n",
      "6    Spain   0.00       46.75             83.5            0.0\n",
      "7        0   0.00        0.00              0.0            0.0\n"
     ]
    }
   ],
   "source": [
    "# Filling missing values with 0\n",
    "df = df.drop(columns=['Missing Count'])\n",
    "df_fillna_zero = df.fillna(0)\n",
    "print(\"\\nDataFrame after filling missing values with 0:\")\n",
    "print(df_fillna_zero)"
   ]
  },
  {
   "cell_type": "code",
   "execution_count": 11,
   "id": "e886ebc6-d1ba-4dc2-9a67-031725705f14",
   "metadata": {},
   "outputs": [
    {
     "name": "stdout",
     "output_type": "stream",
     "text": [
      "\n",
      "DataFrame after filling missing values with the mean of each numeric column:\n",
      "   Country     GDP  Population  Life Expectancy  Literacy Rate\n",
      "0      USA  21.430  331.000000            78.90          99.00\n",
      "1   Canada   1.730   37.590000            82.30          98.75\n",
      "2  Germany   6.154   83.020000            81.75          98.75\n",
      "3   France   2.780  104.323333            82.50          99.00\n",
      "4       UK   2.830   67.220000            81.20          99.00\n",
      "5    Italy   2.000   60.360000            82.10          98.00\n",
      "6    Spain   6.154   46.750000            83.50          98.75\n",
      "7      NaN   6.154  104.323333            81.75          98.75\n"
     ]
    }
   ],
   "source": [
    "# Filling missing values with the mean of numeric columns only\n",
    "numeric_columns = df.select_dtypes(include=['float64', 'int64']).columns\n",
    "df_fillna_mean = df.copy()\n",
    "df_fillna_mean[numeric_columns] = df[numeric_columns].fillna(df[numeric_columns].mean())\n",
    "\n",
    "print(\"\\nDataFrame after filling missing values with the mean of each numeric column:\")\n",
    "print(df_fillna_mean)"
   ]
  },
  {
   "cell_type": "code",
   "execution_count": 12,
   "id": "57935d57-48d2-4c01-80ee-0d83394860aa",
   "metadata": {},
   "outputs": [
    {
     "name": "stdout",
     "output_type": "stream",
     "text": [
      "\n",
      "DataFrame after forward filling missing values (ffill):\n",
      "   Country    GDP  Population  Life Expectancy  Literacy Rate\n",
      "0      USA  21.43      331.00             78.9           99.0\n",
      "1   Canada   1.73       37.59             82.3           99.0\n",
      "2  Germany   1.73       83.02             82.3           99.0\n",
      "3   France   2.78       83.02             82.5           99.0\n",
      "4       UK   2.83       67.22             81.2           99.0\n",
      "5    Italy   2.00       60.36             82.1           98.0\n",
      "6    Spain   2.00       46.75             83.5           98.0\n",
      "7    Spain   2.00       46.75             83.5           98.0\n"
     ]
    }
   ],
   "source": [
    "# Filling missing values with forward fill (ffill)\n",
    "df_fillna_ffill = df.ffill()\n",
    "print(\"\\nDataFrame after forward filling missing values (ffill):\")\n",
    "print(df_fillna_ffill)"
   ]
  },
  {
   "cell_type": "code",
   "execution_count": 13,
   "id": "d2cfc8fe-8232-437b-8ecc-aab0b15b5456",
   "metadata": {},
   "outputs": [
    {
     "name": "stdout",
     "output_type": "stream",
     "text": [
      "\n",
      "DataFrame after backward filling missing values (bfill):\n",
      "   Country    GDP  Population  Life Expectancy  Literacy Rate\n",
      "0      USA  21.43      331.00             78.9           99.0\n",
      "1   Canada   1.73       37.59             82.3           99.0\n",
      "2  Germany   2.78       83.02             82.5           99.0\n",
      "3   France   2.78       67.22             82.5           99.0\n",
      "4       UK   2.83       67.22             81.2           99.0\n",
      "5    Italy   2.00       60.36             82.1           98.0\n",
      "6    Spain    NaN       46.75             83.5            NaN\n",
      "7      NaN    NaN         NaN              NaN            NaN\n"
     ]
    }
   ],
   "source": [
    "# Filling missing values with backward fill (bfill)\n",
    "df_fillna_bfill = df.bfill()\n",
    "print(\"\\nDataFrame after backward filling missing values (bfill):\")\n",
    "print(df_fillna_bfill)"
   ]
  },
  {
   "cell_type": "markdown",
   "id": "c07e20cb-0e8d-40ab-876e-e801b5751edf",
   "metadata": {},
   "source": [
    "## Interpolating Missing Data\n",
    "Interpolation is another method to estimate missing values based on other values in the data.\n",
    "The `interpolate()` method is used to fill missing values in a linear fashion by default,\n",
    "but it also supports other methods like polynomial and spline interpolation."
   ]
  },
  {
   "cell_type": "code",
   "execution_count": 14,
   "id": "dad5fa72-c4af-433a-8681-4e8a9f3bfa5b",
   "metadata": {},
   "outputs": [
    {
     "name": "stdout",
     "output_type": "stream",
     "text": [
      "\n",
      "DataFrame after Linear Interpolation of Missing Values:\n",
      "   Country     GDP  Population  Life Expectancy  Literacy Rate\n",
      "0      USA  21.430      331.00             78.9           99.0\n",
      "1   Canada   1.730       37.59             82.3           99.0\n",
      "2  Germany   2.255       83.02             82.4           99.0\n",
      "3   France   2.780       75.12             82.5           99.0\n",
      "4       UK   2.830       67.22             81.2           99.0\n",
      "5    Italy   2.000       60.36             82.1           98.0\n",
      "6    Spain   2.000       46.75             83.5           98.0\n",
      "7      NaN   2.000       46.75             83.5           98.0\n"
     ]
    },
    {
     "name": "stderr",
     "output_type": "stream",
     "text": [
      "C:\\Users\\paulj\\AppData\\Local\\Temp\\ipykernel_36504\\666473968.py:2: FutureWarning: DataFrame.interpolate with object dtype is deprecated and will raise in a future version. Call obj.infer_objects(copy=False) before interpolating instead.\n",
      "  df_interpolate_linear = df.interpolate()\n"
     ]
    }
   ],
   "source": [
    "# Now apply linear interpolation\n",
    "df_interpolate_linear = df.interpolate()\n",
    "print(\"\\nDataFrame after Linear Interpolation of Missing Values:\")\n",
    "print(df_interpolate_linear)"
   ]
  },
  {
   "cell_type": "markdown",
   "id": "1bd1b6bc-bee9-4d59-8a53-12e763eb6cd0",
   "metadata": {},
   "source": [
    "## Dropping Missing Data with `dropna()`\n",
    "Sometimes it is more appropriate to remove rows or columns with missing data. The `dropna()` method allows us to do this."
   ]
  },
  {
   "cell_type": "code",
   "execution_count": 15,
   "id": "e1277527-e4b5-4214-b022-b99a48811fbf",
   "metadata": {},
   "outputs": [
    {
     "name": "stdout",
     "output_type": "stream",
     "text": [
      "\n",
      "DataFrame after Dropping Rows with Any Missing Values:\n",
      "  Country    GDP  Population  Life Expectancy  Literacy Rate\n",
      "0     USA  21.43      331.00             78.9           99.0\n",
      "4      UK   2.83       67.22             81.2           99.0\n",
      "5   Italy   2.00       60.36             82.1           98.0\n"
     ]
    }
   ],
   "source": [
    "# Dropping rows with any missing values\n",
    "df_dropna_rows = df.dropna()\n",
    "print(\"\\nDataFrame after Dropping Rows with Any Missing Values:\")\n",
    "print(df_dropna_rows)"
   ]
  },
  {
   "cell_type": "code",
   "execution_count": 16,
   "id": "36a86a05-3786-41dc-876d-5b1a803dd9ab",
   "metadata": {},
   "outputs": [
    {
     "name": "stdout",
     "output_type": "stream",
     "text": [
      "\n",
      "DataFrame after Dropping Columns with Any Missing Values:\n",
      "Empty DataFrame\n",
      "Columns: []\n",
      "Index: [0, 1, 2, 3, 4, 5, 6, 7]\n"
     ]
    }
   ],
   "source": [
    "# Dropping columns with any missing values\n",
    "df_dropna_columns = df.dropna(axis=1)\n",
    "print(\"\\nDataFrame after Dropping Columns with Any Missing Values:\")\n",
    "print(df_dropna_columns)"
   ]
  },
  {
   "cell_type": "markdown",
   "id": "785cf2e9",
   "metadata": {},
   "source": [
    "# Z-Score\n",
    "\n",
    "This method calculates how far away a data point is from the mean in terms of standard deviations. It is generally considered that data points with a Z-score greater than 2 or 3 (or less than -2 or -3) are considered outliers."
   ]
  },
  {
   "cell_type": "code",
   "execution_count": 18,
   "id": "6e9294a9",
   "metadata": {},
   "outputs": [
    {
     "name": "stdout",
     "output_type": "stream",
     "text": [
      "Z-scores:\n",
      "        GDP  Population  Life Expectancy  Literacy Rate\n",
      "0  1.786036    2.020782        -1.804303            0.5\n",
      "1 -0.517244   -0.594916         0.348199            NaN\n",
      "2       NaN   -0.189915              NaN            NaN\n",
      "3 -0.394481         NaN         0.474817            0.5\n",
      "4 -0.388635   -0.330770        -0.348199            0.5\n",
      "5 -0.485676   -0.391925         0.221581           -1.5\n",
      "6       NaN   -0.513256         1.107906            NaN\n",
      "7       NaN         NaN              NaN            NaN\n",
      "Outliers based on Z-score method:\n",
      "   GDP  Population  Life Expectancy  Literacy Rate\n",
      "0  NaN    2.020782              NaN            NaN\n",
      "1  NaN         NaN              NaN            NaN\n",
      "2  NaN         NaN              NaN            NaN\n",
      "3  NaN         NaN              NaN            NaN\n",
      "4  NaN         NaN              NaN            NaN\n",
      "5  NaN         NaN              NaN            NaN\n",
      "6  NaN         NaN              NaN            NaN\n",
      "7  NaN         NaN              NaN            NaN\n"
     ]
    }
   ],
   "source": [
    "# Select only numeric columns for Z-score calculation\n",
    "numeric_df = df.select_dtypes(include=[np.number])\n",
    "\n",
    "# Calculate Z-score for numeric columns\n",
    "df_zscore = (numeric_df - numeric_df.mean()) / numeric_df.std()\n",
    "\n",
    "# Print Z-scores to analyze\n",
    "print(\"Z-scores:\")\n",
    "print(df_zscore)\n",
    "\n",
    "# Set a threshold for identifying outliers\n",
    "threshold = 2\n",
    "\n",
    "# Find outliers\n",
    "outliers = df_zscore[(df_zscore > threshold) | (df_zscore < -threshold)]\n",
    "print(\"Outliers based on Z-score method:\")\n",
    "print(outliers)"
   ]
  },
  {
   "cell_type": "markdown",
   "id": "de27ea1e-6f8e-4d0f-bfc2-54fe8cf83cf4",
   "metadata": {},
   "source": [
    "## Understanding the Impact of Handling Missing Data\n",
    "It's important to understand how handling missing data can impact your analysis.\n",
    "For instance, dropping rows with missing data might lead to a loss of important information,\n",
    "while filling missing data might introduce bias if not done carefully."
   ]
  },
  {
   "cell_type": "markdown",
   "id": "b830ce28-5a3a-49bf-8287-e164454dcbfd",
   "metadata": {},
   "source": [
    "# Challenge: Handling Missing Data in the Manufacturing Process Dataset\n",
    "\n",
    "Now that you've learned how to handle missing data using Pandas, try to complete the following tasks with the provided manufacturing process dataset (`cost_of_living_US.csv`):\n",
    "\n",
    "1. **Load the Dataset** - Load the `cost_of_living_US.csv` file into a DataFrame.\n",
    "2. **Explore the Data** - Explore the shape, columns, and general information of the DataFrame using `shape`, `columns`, `info()`, and `describe()`.\n",
    "3. **Find any outliers** - Look for any outliers (if any) - use a threshold or 2 or 3. Decide on what you feel is best way to handle the outlier.\n",
    "4. **Identify Missing Data** - Identify which columns have missing data using `isnull().sum()`.\n",
    "5. **Identify Missing Data** - Count the total number of missing values in the entire dataset.\n",
    "6. **Fill Missing Data** - Fill the missing values in each column with the mean of that column. (do not save to df)\n",
    "7. **Fill Missing Data** - Create a new DataFrame with missing values forward-filled using the last valid observation. (do not save to df)\n",
    "8. **Interpolate Missing Data** - Perform linear interpolation to fill in the missing values. (do not save to df)\n",
    "\n",
    "--\n",
    "\n",
    "## Bonus Challenges\n",
    "\n",
    "### Bonus 1: Analyse the Effect of Different Methods\n",
    "- Compare the summary statistics (`describe()`) of the dataset after filling missing values with the mean, forward-filling, and interpolating. Which method seems to retain the most natural distribution of data?\n",
    "\n",
    "### Bonus 2: Dropping data\n",
    "- Discuss whether it would be more appropriate to fill in the missing values or drop these columns entirely, considering the context of the data.\n",
    "\n",
    "### Bonus 3: Create a Custom Function for Missing Data\n",
    "- Write a custom function that takes in a DataFrame and a column name, generates two adapted DataFrames and fills missing values using both mean and linear interpolation and returns the both DataFrames. Test this function on the `cost_of_living_US.csv` dataset."
   ]
  },
  {
   "cell_type": "code",
   "execution_count": null,
   "id": "00a829a7-27ba-453e-93b5-bc0a84ba2860",
   "metadata": {},
   "outputs": [],
   "source": [
    "#1"
   ]
  },
  {
   "cell_type": "code",
   "execution_count": null,
   "id": "6f58ffc5-f4fd-4ffe-b968-9587df95fce5",
   "metadata": {},
   "outputs": [],
   "source": [
    "#2"
   ]
  },
  {
   "cell_type": "code",
   "execution_count": null,
   "id": "bef3def3-b25c-4f13-aceb-b7e8b9e99bb6",
   "metadata": {},
   "outputs": [],
   "source": [
    "#3"
   ]
  },
  {
   "cell_type": "code",
   "execution_count": null,
   "id": "45194471-eb4f-4e4f-9180-4b7f02cb83fd",
   "metadata": {},
   "outputs": [],
   "source": [
    "#4"
   ]
  },
  {
   "cell_type": "code",
   "execution_count": null,
   "id": "3ae29887-499e-4b5f-88c8-3947b155861e",
   "metadata": {},
   "outputs": [],
   "source": [
    "#5"
   ]
  },
  {
   "cell_type": "code",
   "execution_count": null,
   "id": "07455ac7-57d8-4cb6-90b4-eb7b20b0737a",
   "metadata": {},
   "outputs": [],
   "source": [
    "#6"
   ]
  },
  {
   "cell_type": "code",
   "execution_count": 19,
   "id": "2216b0d9-316c-4ff1-81a3-f2d7fa792f86",
   "metadata": {},
   "outputs": [],
   "source": [
    "#7"
   ]
  },
  {
   "cell_type": "code",
   "execution_count": null,
   "id": "b91b0bc3",
   "metadata": {},
   "outputs": [],
   "source": [
    "#8"
   ]
  },
  {
   "cell_type": "code",
   "execution_count": 20,
   "id": "3c23414a-e47f-405f-9f29-6a9520172366",
   "metadata": {},
   "outputs": [],
   "source": [
    "# Bonus 1"
   ]
  },
  {
   "cell_type": "code",
   "execution_count": 21,
   "id": "43fbdecf-2612-43f6-9fa7-2a8b3424165f",
   "metadata": {},
   "outputs": [],
   "source": [
    "# Bonus 2"
   ]
  },
  {
   "cell_type": "code",
   "execution_count": 22,
   "id": "f5d1981b-f27b-4b35-8925-08dceea1d734",
   "metadata": {},
   "outputs": [],
   "source": [
    "# Bonus 3"
   ]
  }
 ],
 "metadata": {
  "kernelspec": {
   "display_name": "Python 3 (ipykernel)",
   "language": "python",
   "name": "python3"
  },
  "language_info": {
   "codemirror_mode": {
    "name": "ipython",
    "version": 3
   },
   "file_extension": ".py",
   "mimetype": "text/x-python",
   "name": "python",
   "nbconvert_exporter": "python",
   "pygments_lexer": "ipython3",
   "version": "3.12.5"
  }
 },
 "nbformat": 4,
 "nbformat_minor": 5
}
