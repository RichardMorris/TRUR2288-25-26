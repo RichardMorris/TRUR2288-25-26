{
 "cells": [
  {
   "cell_type": "markdown",
   "id": "02ce6b06-902b-4abc-809c-6d6cff0830ba",
   "metadata": {},
   "source": [
    "# Introduction to NumPy for Data Analytics\n",
    "\n",
    "## Introduction\n",
    "In this notebook, we will explore the basics of NumPy, a fundamental library in Python for numerical computations.\n",
    "NumPy is crucial for efficient data manipulation and analysis, especially when dealing with large datasets.\n",
    "\n",
    "NumPy arrays are optimized for numerical computations, faster, and more memory-efficient than Python lists.\n",
    "They allow you to easily perform calculations on all elements at once, work with arrays of different shapes, and handle data in multiple dimensions, like tables or grids.\n",
    "Lists can not do this and unlike lists, they only store elements of a single data type."
   ]
  },
  {
   "cell_type": "code",
   "execution_count": 1,
   "id": "476281f7-28bf-4940-adf2-d79af0c170a4",
   "metadata": {},
   "outputs": [],
   "source": [
    "import numpy as np"
   ]
  },
  {
   "cell_type": "markdown",
   "id": "71668550-b498-43aa-ba44-62557bef5176",
   "metadata": {},
   "source": [
    "## Understanding ndarrays\n",
    "The core data structure in NumPy is the ndarray (n-dimensional array), which provides fast and efficient operations on large data.\n",
    "Let's start by creating some ndarrays.\n",
    "\n",
    "### Creating a 1D ndarray\n",
    "A 1D array (vector) can be created using the np.array() function."
   ]
  },
  {
   "cell_type": "code",
   "execution_count": 2,
   "id": "884907de-0459-4349-bb13-2df613fe6134",
   "metadata": {},
   "outputs": [
    {
     "name": "stdout",
     "output_type": "stream",
     "text": [
      "1D Array (ndarray):\n",
      "[1 2 3 4 5]\n"
     ]
    }
   ],
   "source": [
    "arr1 = np.array([1, 2, 3, 4, 5])\n",
    "print(\"1D Array (ndarray):\")\n",
    "print(arr1)"
   ]
  },
  {
   "cell_type": "markdown",
   "id": "bfe90df7-a586-4b49-b968-3eea72ede8e1",
   "metadata": {},
   "source": [
    "### Creating a 2D ndarray\n",
    "A 2D array (matrix) can be created by passing a list of lists to the np.array() function."
   ]
  },
  {
   "cell_type": "code",
   "execution_count": 3,
   "id": "9df67a79-4aa2-4c3e-96fb-3c771d133487",
   "metadata": {},
   "outputs": [
    {
     "name": "stdout",
     "output_type": "stream",
     "text": [
      "2D Array (ndarray):\n",
      "[[1 2 3]\n",
      " [4 5 6]\n",
      " [7 8 9]]\n"
     ]
    }
   ],
   "source": [
    "arr2 = np.array([[1, 2, 3], [4, 5, 6], [7, 8, 9]])\n",
    "print(\"2D Array (ndarray):\")\n",
    "print(arr2)"
   ]
  },
  {
   "cell_type": "markdown",
   "id": "56e854aa-8a20-40c0-85de-48b6ed9b9e3a",
   "metadata": {},
   "source": [
    "## Understanding Vectorisation\n",
    "Vectorisation is a powerful feature in NumPy that allows you to perform operations on entire arrays without the need for explicit loops.\n",
    "This leads to more concise and faster code.\n",
    "\n",
    "### Vectorised Operations\n",
    "You can perform arithmetic operations on entire arrays."
   ]
  },
  {
   "cell_type": "code",
   "execution_count": 4,
   "id": "4006132d-3e07-4c18-bdc3-3d79b92afb5e",
   "metadata": {},
   "outputs": [
    {
     "name": "stdout",
     "output_type": "stream",
     "text": [
      "Adding 10 to each element of arr1:\n",
      "[11 12 13 14 15]\n",
      "Multiplying each element of arr1 by 2:\n",
      "[ 2  4  6  8 10]\n"
     ]
    }
   ],
   "source": [
    "print(\"Adding 10 to each element of arr1:\")\n",
    "print(arr1 + 10)\n",
    "\n",
    "print(\"Multiplying each element of arr1 by 2:\")\n",
    "print(arr1 * 2)"
   ]
  },
  {
   "cell_type": "markdown",
   "id": "dbcf3385-2505-4ca9-b42e-7f9d5676209b",
   "metadata": {},
   "source": [
    "## Selecting and Slicing Rows and Columns\n",
    "Indexing and slicing allow you to select specific elements, rows, or columns from an ndarray.\n",
    "\n",
    "### Selecting Specific Elements\n",
    "You can access elements by their indices (remember that indexing starts at 0)."
   ]
  },
  {
   "cell_type": "code",
   "execution_count": 5,
   "id": "340fab9e-3cb7-4f9a-b852-b9bb294eb7d1",
   "metadata": {},
   "outputs": [
    {
     "name": "stdout",
     "output_type": "stream",
     "text": [
      "First element of arr1: 1\n",
      "Element at position (1,2) in arr2: 6\n"
     ]
    }
   ],
   "source": [
    "print(\"First element of arr1:\", arr1[0])\n",
    "print(\"Element at position (1,2) in arr2:\", arr2[1, 2])"
   ]
  },
  {
   "cell_type": "markdown",
   "id": "5688ee8c-e38c-4ab3-b734-78b1d0377635",
   "metadata": {},
   "source": [
    "### Slicing Rows and Columns\n",
    "Slicing allows you to select a range of elements."
   ]
  },
  {
   "cell_type": "code",
   "execution_count": 6,
   "id": "0fc31823",
   "metadata": {},
   "outputs": [
    {
     "name": "stdout",
     "output_type": "stream",
     "text": [
      "First two elements of arr1: [1 2]\n",
      "First row of arr2: [1 2 3]\n",
      "First two columns of arr2:\n",
      "[[1 2]\n",
      " [4 5]\n",
      " [7 8]]\n"
     ]
    }
   ],
   "source": [
    "print(\"First two elements of arr1:\", arr1[:2])\n",
    "print(\"First row of arr2:\", arr2[0, :])\n",
    "print(\"First two columns of arr2:\")\n",
    "print(arr2[:, :2])"
   ]
  },
  {
   "cell_type": "markdown",
   "id": "c208ca52-b1a1-4526-9118-6dc0f4331ae2",
   "metadata": {},
   "source": [
    "## Assigning Values to ndarrays\n",
    "You can also assign values to specific elements or slices of an ndarray.\n",
    "This is useful for updating the data within an array.\n",
    "\n",
    "### Assigning a Single Value\n",
    "Assign a single value to a specific element in the array."
   ]
  },
  {
   "cell_type": "code",
   "execution_count": 7,
   "id": "0a0b4d78-bd13-45c9-9bbd-b2dbe5f5701b",
   "metadata": {},
   "outputs": [
    {
     "name": "stdout",
     "output_type": "stream",
     "text": [
      "Updated arr1 after assigning 10 to the first element:\n",
      "[10  2  3  4  5]\n"
     ]
    }
   ],
   "source": [
    "arr1[0] = 10\n",
    "print(\"Updated arr1 after assigning 10 to the first element:\")\n",
    "print(arr1)"
   ]
  },
  {
   "cell_type": "markdown",
   "id": "6e8244cb-483e-4574-b351-b86c2627e04c",
   "metadata": {},
   "source": [
    "### Assigning Values to Slices\n",
    "You can assign the same value to a slice of the array, or even a different ndarray."
   ]
  },
  {
   "cell_type": "code",
   "execution_count": 8,
   "id": "ad34f1b2-79ac-4ec1-8c97-482096cbb254",
   "metadata": {},
   "outputs": [
    {
     "name": "stdout",
     "output_type": "stream",
     "text": [
      "Updated arr2 after assigning 100 to the first column:\n",
      "[[100   2   3]\n",
      " [100   5   6]\n",
      " [100   8   9]]\n"
     ]
    }
   ],
   "source": [
    "arr2[:, 0] = 100\n",
    "print(\"Updated arr2 after assigning 100 to the first column:\")\n",
    "print(arr2)"
   ]
  },
  {
   "cell_type": "markdown",
   "id": "80eea8b9-c762-4479-bf11-d046e8bed2ed",
   "metadata": {},
   "source": [
    "### Assign different values to a slice"
   ]
  },
  {
   "cell_type": "code",
   "execution_count": 9,
   "id": "0c094d50-d8da-43cf-be64-8bfa30743b65",
   "metadata": {},
   "outputs": [
    {
     "name": "stdout",
     "output_type": "stream",
     "text": [
      "Updated arr2 after assigning different values to the first row:\n",
      "[[101 102 103]\n",
      " [100   5   6]\n",
      " [100   8   9]]\n"
     ]
    }
   ],
   "source": [
    "arr2[0, :] = [101, 102, 103]\n",
    "print(\"Updated arr2 after assigning different values to the first row:\")\n",
    "print(arr2)"
   ]
  },
  {
   "cell_type": "markdown",
   "id": "bb755971-eaea-42a5-b4e9-cd6661934750",
   "metadata": {},
   "source": [
    "## Vector Operations on 1D Arrays\n",
    "NumPy provides easy-to-use functions to calculate basic statistics on arrays.\n",
    "\n",
    "### Operations on 1D Arrays\n",
    "Let's calculate the minimum, maximum, mean, and sum of elements in a 1D array."
   ]
  },
  {
   "cell_type": "code",
   "execution_count": 10,
   "id": "3e00cb63-dc0c-47c3-a3d5-b04a0f795b71",
   "metadata": {},
   "outputs": [
    {
     "name": "stdout",
     "output_type": "stream",
     "text": [
      "arr1: [10  2  3  4  5]\n",
      "Min of arr1: 2\n",
      "Max of arr1: 10\n",
      "Mean of arr1: 4.8\n",
      "Sum of arr1: 24\n"
     ]
    }
   ],
   "source": [
    "print(\"arr1:\", (arr1))\n",
    "print(\"Min of arr1:\", np.min(arr1))\n",
    "print(\"Max of arr1:\", np.max(arr1))\n",
    "print(\"Mean of arr1:\", np.mean(arr1))\n",
    "print(\"Sum of arr1:\", np.sum(arr1))"
   ]
  },
  {
   "cell_type": "markdown",
   "id": "aef85c65-5ea8-4e84-be6c-163f0bb33eee",
   "metadata": {},
   "source": [
    "## Vector Operations on 2D Arrays\n",
    "Similarly, you can perform these operations on 2D arrays.\n",
    "\n",
    "### Operations on 2D Arrays\n",
    "You can calculate the min, max, mean, and sum across the entire array or along a specific axis (row/column)."
   ]
  },
  {
   "cell_type": "code",
   "execution_count": 11,
   "id": "5f47ba8c-c4ee-4b02-bf18-d0230ad58e73",
   "metadata": {},
   "outputs": [
    {
     "name": "stdout",
     "output_type": "stream",
     "text": [
      "arr2: [[101 102 103]\n",
      " [100   5   6]\n",
      " [100   8   9]]\n",
      "Min of arr2: 5\n",
      "Max of arr2: 103\n",
      "Mean of arr2: 59.333333333333336\n",
      "Sum of arr2: 534\n"
     ]
    }
   ],
   "source": [
    "print(\"arr2:\", (arr2))\n",
    "print(\"Min of arr2:\", np.min(arr2))\n",
    "print(\"Max of arr2:\", np.max(arr2))\n",
    "print(\"Mean of arr2:\", np.mean(arr2))\n",
    "print(\"Sum of arr2:\", np.sum(arr2))"
   ]
  },
  {
   "cell_type": "markdown",
   "id": "326e60b2-d5f7-455d-8a09-2a695d3a4cab",
   "metadata": {},
   "source": [
    "### Sum across rows (axis=1)"
   ]
  },
  {
   "cell_type": "code",
   "execution_count": 12,
   "id": "a264233b-3568-490c-9ed3-ec7c139b2ba5",
   "metadata": {},
   "outputs": [
    {
     "name": "stdout",
     "output_type": "stream",
     "text": [
      "Sum across rows of arr2:\n",
      "[306 111 117]\n"
     ]
    }
   ],
   "source": [
    "print(\"Sum across rows of arr2:\")\n",
    "print(np.sum(arr2, axis=1))"
   ]
  },
  {
   "cell_type": "markdown",
   "id": "357021cf-f202-4cf0-9562-017c7a3d9e57",
   "metadata": {},
   "source": [
    "### Sum across columns (axis=0)"
   ]
  },
  {
   "cell_type": "code",
   "execution_count": 13,
   "id": "6b79c58a-e40d-4d98-a880-abbb99f64dc4",
   "metadata": {},
   "outputs": [
    {
     "name": "stdout",
     "output_type": "stream",
     "text": [
      "Sum across columns of arr2:\n",
      "[301 115 118]\n"
     ]
    }
   ],
   "source": [
    "print(\"Sum across columns of arr2:\")\n",
    "print(np.sum(arr2, axis=0))"
   ]
  },
  {
   "cell_type": "markdown",
   "id": "b5ce52ff-6e04-4a2b-a877-c1383ce5b3c8",
   "metadata": {},
   "source": [
    "## Reading CSV Files with NumPy\n",
    "NumPy can also be used to read data from CSV files, which is essential for data analysis.\n",
    "\n",
    "### Reading a CSV File\n",
    "Let's read a CSV file into a NumPy array. We will use the file related to the screenshot."
   ]
  },
  {
   "cell_type": "code",
   "execution_count": 15,
   "id": "1f8c3d9e-e699-4dae-b71f-03c2e102f302",
   "metadata": {},
   "outputs": [
    {
     "name": "stdout",
     "output_type": "stream",
     "text": [
      "CSV Data as ndarray:\n",
      "[[2.016e+03 1.000e+00 1.000e+00 5.000e+00 0.000e+00 2.000e+00 4.000e+00\n",
      "  2.100e+01 2.037e+03 5.200e+01 8.000e-01 5.540e+00 1.165e+01 6.999e+01\n",
      "  1.000e+00]\n",
      " [2.016e+03 1.000e+00 1.000e+00 5.000e+00 0.000e+00 2.000e+00 1.000e+00\n",
      "  1.629e+01 1.520e+03 4.500e+01 1.300e+00 0.000e+00 8.000e+00 5.430e+01\n",
      "  1.000e+00]\n",
      " [2.016e+03 1.000e+00 1.000e+00 5.000e+00 0.000e+00 2.000e+00 6.000e+00\n",
      "  1.270e+01 1.462e+03 3.650e+01 1.300e+00 0.000e+00 0.000e+00 3.780e+01\n",
      "  2.000e+00]\n",
      " [2.016e+03 1.000e+00 1.000e+00 5.000e+00 0.000e+00 2.000e+00 6.000e+00\n",
      "  8.700e+00 1.210e+03 2.600e+01 1.300e+00 0.000e+00 5.460e+00 3.276e+01\n",
      "  1.000e+00]\n",
      " [2.016e+03 1.000e+00 1.000e+00 5.000e+00 0.000e+00 2.000e+00 6.000e+00\n",
      "  5.560e+00 7.590e+02 1.750e+01 1.300e+00 0.000e+00 0.000e+00 1.880e+01\n",
      "  2.000e+00]]\n"
     ]
    }
   ],
   "source": [
    "csv_data = np.genfromtxt('nyc_taxis.csv', delimiter=',', skip_header=1)\n",
    "print(\"CSV Data as ndarray:\")\n",
    "print(csv_data[:5])"
   ]
  },
  {
   "cell_type": "code",
   "execution_count": 16,
   "id": "0243bdc3-dc85-46bd-b137-aa7100b4c8c9",
   "metadata": {},
   "outputs": [],
   "source": [
    "# Define a custom formatter function\n",
    "def custom_formatter(x):\n",
    "    if x.is_integer():\n",
    "        return f'{int(x)}'  # Convert to an integer and format without decimals\n",
    "    else:\n",
    "        return f'{x:.2f}'  # Format with two decimal places\n",
    "\n",
    "# Set the print options using the custom formatter\n",
    "np.set_printoptions(suppress=True, formatter={'float_kind': custom_formatter})"
   ]
  },
  {
   "cell_type": "code",
   "execution_count": 17,
   "id": "3cc0c108-b26a-4be5-b413-304488aab23d",
   "metadata": {},
   "outputs": [
    {
     "name": "stdout",
     "output_type": "stream",
     "text": [
      "CSV Data as ndarray:\n",
      "[[2016 1 1 5 0 2 4 21 2037 52 0.80 5.54 11.65 69.99 1]\n",
      " [2016 1 1 5 0 2 1 16.29 1520 45 1.30 0 8 54.30 1]\n",
      " [2016 1 1 5 0 2 6 12.70 1462 36.50 1.30 0 0 37.80 2]\n",
      " [2016 1 1 5 0 2 6 8.70 1210 26 1.30 0 5.46 32.76 1]\n",
      " [2016 1 1 5 0 2 6 5.56 759 17.50 1.30 0 0 18.80 2]]\n"
     ]
    }
   ],
   "source": [
    "csv_data = np.genfromtxt('nyc_taxis.csv', delimiter=',', skip_header=1)\n",
    "print(\"CSV Data as ndarray:\")\n",
    "print(csv_data[:5])"
   ]
  },
  {
   "cell_type": "markdown",
   "id": "69b4a8f1-af22-4175-9592-f0db325057ca",
   "metadata": {},
   "source": [
    "## Boolean Arrays and Indexing\n",
    "Boolean arrays are arrays where each value is either True or False, and they are useful for filtering data.\n",
    "\n",
    "### Creating a Boolean Array\n",
    "Let's create a boolean array by applying a condition to an ndarray."
   ]
  },
  {
   "cell_type": "code",
   "execution_count": 18,
   "id": "a65592b6-f7bb-47d2-b828-aab873f82167",
   "metadata": {},
   "outputs": [
    {
     "name": "stdout",
     "output_type": "stream",
     "text": [
      "Boolean Array (trip distance > 10):\n",
      "[ True  True  True False False  True False False  True  True]\n"
     ]
    }
   ],
   "source": [
    "boolean_arr = csv_data[:, 7] > 10  # Check if trip distance is greater than 10 units\n",
    "print(\"Boolean Array (trip distance > 10):\")\n",
    "print(boolean_arr[:10])"
   ]
  },
  {
   "cell_type": "markdown",
   "id": "a92dfbd2-480f-4486-a8c5-09f84f2517d9",
   "metadata": {},
   "source": [
    "### Boolean Indexing\n",
    "You can use a boolean array to filter elements in an ndarray."
   ]
  },
  {
   "cell_type": "code",
   "execution_count": 19,
   "id": "665122d9-8b9c-4e20-9d2a-8cc9736ef378",
   "metadata": {},
   "outputs": [
    {
     "name": "stdout",
     "output_type": "stream",
     "text": [
      "Filtered rows where trip distance > 10:\n",
      "[[2016 1 1 5 0 2 4 21 2037 52 0.80 5.54 11.65 69.99 1]\n",
      " [2016 1 1 5 0 2 1 16.29 1520 45 1.30 0 8 54.30 1]\n",
      " [2016 1 1 5 0 2 6 12.70 1462 36.50 1.30 0 0 37.80 2]\n",
      " [2016 1 1 5 0 4 2 21.45 2004 52 0.80 0 52.80 105.60 1]\n",
      " [2016 1 1 5 0 2 5 36.30 2562 109.50 0.80 11.08 10 131.38 1]\n",
      " [2016 1 1 5 0 6 2 12.46 1351 36 1.30 0 0 37.30 2]\n",
      " [2016 1 1 5 1 4 2 16.60 1467 52 0.80 5.54 0 58.34 2]\n",
      " [2016 1 1 5 1 2 4 18.06 1588 52 0.80 5.54 11.67 70.01 1]\n",
      " [2016 1 1 5 1 4 2 16.30 1484 52 0.80 5.54 0 58.34 2]\n",
      " [2016 1 1 5 1 4 3 12.09 1265 33.50 1.30 5.54 10.08 50.42 1]]\n"
     ]
    }
   ],
   "source": [
    "print(\"Filtered rows where trip distance > 10:\")\n",
    "print(csv_data[boolean_arr, :][:10])"
   ]
  },
  {
   "cell_type": "code",
   "execution_count": 20,
   "id": "ad59c327-85b2-48bf-9ea3-4a2b401b6580",
   "metadata": {},
   "outputs": [
    {
     "name": "stdout",
     "output_type": "stream",
     "text": [
      "CSV Data as ndarray:\n",
      "[[2016 1 1 5 0 2 4 21 2037 52 0.80 5.54 11.65 69.99 1]\n",
      " [2016 1 1 5 0 2 1 16.29 1520 45 1.30 0 8 54.30 1]\n",
      " [2016 1 1 5 0 2 6 12.70 1462 36.50 1.30 0 0 37.80 2]\n",
      " [2016 1 1 5 0 2 6 8.70 1210 26 1.30 0 5.46 32.76 1]\n",
      " [2016 1 1 5 0 2 6 5.56 759 17.50 1.30 0 0 18.80 2]]\n"
     ]
    }
   ],
   "source": [
    "csv_data = np.genfromtxt('nyc_taxis.csv', delimiter=',', skip_header=1)\n",
    "print(\"CSV Data as ndarray:\")\n",
    "print(csv_data[:5])"
   ]
  },
  {
   "cell_type": "markdown",
   "id": "4db51621-cc48-4cbe-9c0a-cb1fdd2979be",
   "metadata": {},
   "source": [
    "# NumPy Challenges with NYC Taxis Dataset\n",
    "\n",
    "Now that you've learned the basics of NumPy, let's apply your knowledge to the `nyc_taxis.csv` dataset. Try to complete the following tasks:\n",
    "\n",
    "- **Load the Dataset:** Reload the `nyc_taxis.csv` file into a NumPy ndarray to remove any changes\n",
    "\n",
    "## Challenge 1: Exploring the Data\n",
    "- **Inspect the Data:** Print out the first 10 rows of the dataset to get an overview.\n",
    "- **Shape and Structure:** Display the shape of the ndarray to understand its dimensions (i.e., number of rows and columns).\n",
    "\n",
    "## Challenge 2: Selecting and Slicing Data\n",
    "- **Select Columns:** Extract the `trip_distance`, `fare_amount`, and `total_amount` columns and create a new ndarray from them.\n",
    "- **Slice Rows and Columns:** Select the first 100 rows and the first 5 columns of the dataset.\n",
    "\n",
    "## Challenge 3: Vectorized Operations\n",
    "- **Calculate Total Fare Per Mile:** Using vectorized operations, calculate the fare per mile for each trip and create a new ndarray with these values.\n",
    "  - *Hint:* Divide the `total_amount` column by the `trip_distance` column.\n",
    "- **Increase Fare Amounts:** Add a flat $2.50 surcharge to all fare amounts and store the result in a new ndarray.\n",
    "\n",
    "## Challenge 4: Basic Statistics\n",
    "- **Calculate Averages:** Compute the mean, median, and standard deviation for the `trip_distance`, `fare_amount`, and `total_amount` columns.\n",
    "- **Identify Extremes:** Find the maximum and minimum values for `trip_distance` and `total_amount`.\n",
    "\n",
    "## Challenge 5: Boolean Indexing\n",
    "- **Filter High Fares:** Create a Boolean array to filter trips where the total fare amount is greater than $100. Print the first 5 rows of the filtered data.\n",
    "- **Short Trips:** Identify trips where the distance was less than 2 miles. How many such trips are there?\n",
    "\n",
    "## Challenge 6: Assigning Values\n",
    "- **Apply Discounts:** For trips with a `fare_amount` greater than $50, apply a 10% discount. Create a new ndarray with the discounted fares.\n",
    "- **Mark High Tips:** Add a new column to the dataset that marks trips with a `tip_amount` greater than 20% of the `fare_amount` as 1 (high tip) and others as 0 (low tip).\n",
    "\n",
    "## Challenge 7: Working with Boolean Arrays\n",
    "- **Count June Rides:** Determine how many rides took place in June.\n",
    "- **Calculate Average Trip Length:** Calculate the average `trip_length` for all rides that took place in June."
   ]
  },
  {
   "cell_type": "code",
   "execution_count": null,
   "id": "f968ac58-4883-493f-ae80-d74bad0ee404",
   "metadata": {},
   "outputs": [],
   "source": [
    "#1"
   ]
  },
  {
   "cell_type": "code",
   "execution_count": null,
   "id": "badedcd8-2775-4022-97a9-4170fa713821",
   "metadata": {},
   "outputs": [],
   "source": [
    "#2"
   ]
  },
  {
   "cell_type": "code",
   "execution_count": null,
   "id": "e74dc844-930d-4ccc-a7bc-816e1df3ced8",
   "metadata": {},
   "outputs": [],
   "source": [
    "#3"
   ]
  },
  {
   "cell_type": "code",
   "execution_count": null,
   "id": "1befe5ae-541a-473f-b91c-b016fb120e63",
   "metadata": {},
   "outputs": [],
   "source": [
    "#4"
   ]
  },
  {
   "cell_type": "code",
   "execution_count": null,
   "id": "c9faf250-0be9-4c53-b0b0-3c1f59e94ff5",
   "metadata": {},
   "outputs": [],
   "source": [
    "#5"
   ]
  },
  {
   "cell_type": "code",
   "execution_count": null,
   "id": "9c0dd748-cc7b-4582-8ba6-79ab9e29bca9",
   "metadata": {},
   "outputs": [],
   "source": [
    "#6"
   ]
  },
  {
   "cell_type": "code",
   "execution_count": null,
   "id": "a5c77a80-aa09-4ef2-bb0f-1ad2db0a4e27",
   "metadata": {},
   "outputs": [],
   "source": [
    "#7"
   ]
  }
 ],
 "metadata": {
  "kernelspec": {
   "display_name": "Python 3 (ipykernel)",
   "language": "python",
   "name": "python3"
  },
  "language_info": {
   "codemirror_mode": {
    "name": "ipython",
    "version": 3
   },
   "file_extension": ".py",
   "mimetype": "text/x-python",
   "name": "python",
   "nbconvert_exporter": "python",
   "pygments_lexer": "ipython3",
   "version": "3.12.5"
  }
 },
 "nbformat": 4,
 "nbformat_minor": 5
}
